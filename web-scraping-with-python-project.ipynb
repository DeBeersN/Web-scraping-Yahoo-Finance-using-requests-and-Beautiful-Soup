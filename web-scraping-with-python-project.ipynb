{
 "cells": [
  {
   "cell_type": "markdown",
   "metadata": {},
   "source": [
    "# Scraping Yahoo! Finance Most Active Stocks"
   ]
  },
  {
   "cell_type": "markdown",
   "metadata": {},
   "source": [
    "![](https://i.imgur.com/Jhx4oL9.png)"
   ]
  },
  {
   "cell_type": "markdown",
   "metadata": {},
   "source": [
    "## Project statement\n",
    "\n",
    "In this project I'll be web scraping Yahoo! Finance. I'll specifically be scraping an article that showcase the [most active stocks today](https://finance.yahoo.com/most-active?offset=0&count=100). \n",
    "\n",
    "Yahoo! Finance defines \"most active\" in these articles as those stocks with the highest daily volume, which is the stocks that are being the most actively traded. The article showcases the top 200 active stocks from the pool of all stocks on the market.\n",
    "\n",
    "My reason for scraping this article is two-fold: firstly, I think investing is a fascinating topic, and secondly, as a woman, it is extremely important to learn and share learnings about investing. Women are so far behind in terms of creating wealth due to the patriarchal barriers that we have been subjected to. I hope that by educating myself and sharing information that I can be a part of shrinking the wealth gap between men and women. \n",
    "\n",
    "The information that we'll extract from this article is useful for someone who is keen to invest, but isn't sure what specific stock(s) to choose. The reasons for choosing specific investments is personal to each investor, so we'll explore a myriad of options such as: largest market capitalisation, largest volume, largest PE ratio, and lowest price. It may be useful to define a few of these features:\n",
    "* __Market capitalisation__: How large a company is. This is calculated by the company stock price x shares. We classify stocks as small, mid, and large size caps.\n",
    "* __Volume__: The amount of stocks traded.\n",
    "* __PE ratio__: This is calculated by the company stock price divided by the most recently reported earnings of the company. A low PE ratio indicates the stock is good value."
   ]
  },
  {
   "cell_type": "markdown",
   "metadata": {},
   "source": [
    "## Table of contents\n",
    "1. Download the article\n",
    "2. Create a BeautifulSoup document for parsing\n",
    "3. Parse the BeautifulSoup document\n",
    "4. Create functions to display information\n",
    "5. Create a CSV of the parsed information\n",
    "6. Display the CSV files in Pandas data frames\n",
    "7. A bit of simple data visualisation\n",
    "8. Summary\n",
    "9. Future work ideas\n",
    "10. References"
   ]
  },
  {
   "cell_type": "markdown",
   "metadata": {},
   "source": [
    "### 1. Download the article"
   ]
  },
  {
   "cell_type": "markdown",
   "metadata": {},
   "source": [
    "We'll start by downloading the requests library so we can open the articles as files."
   ]
  },
  {
   "cell_type": "code",
   "execution_count": 125,
   "metadata": {},
   "outputs": [],
   "source": [
    "!pip install requests --upgrade --quiet"
   ]
  },
  {
   "cell_type": "code",
   "execution_count": 126,
   "metadata": {},
   "outputs": [],
   "source": [
    "import requests"
   ]
  },
  {
   "cell_type": "markdown",
   "metadata": {},
   "source": [
    "Here is a snapshot of the article that we'll be parsing. It shows the 100 most active stocks on 20-08-2022."
   ]
  },
  {
   "cell_type": "markdown",
   "metadata": {},
   "source": [
    "![](https://i.imgur.com/3GA91gr.png)"
   ]
  },
  {
   "cell_type": "code",
   "execution_count": 127,
   "metadata": {},
   "outputs": [],
   "source": [
    "url = 'https://finance.yahoo.com/most-active?offset={offset_val}&count=100'"
   ]
  },
  {
   "cell_type": "code",
   "execution_count": 128,
   "metadata": {},
   "outputs": [],
   "source": [
    "headers = {\n",
    "    'User-Agent': 'Nadya DeBeers',\n",
    "    'From': 'nadya.debeers@hotmail.com'\n",
    "}\n",
    "offset_val = 0\n",
    "response = requests.get(url, headers=headers)"
   ]
  },
  {
   "cell_type": "code",
   "execution_count": 129,
   "metadata": {},
   "outputs": [
    {
     "data": {
      "text/plain": [
       "200"
      ]
     },
     "execution_count": 129,
     "metadata": {},
     "output_type": "execute_result"
    }
   ],
   "source": [
    "response.status_code"
   ]
  },
  {
   "cell_type": "markdown",
   "metadata": {},
   "source": [
    "A status_code in the range of 200:300 means that our url has downloaded and is ready to be read."
   ]
  },
  {
   "cell_type": "code",
   "execution_count": 130,
   "metadata": {},
   "outputs": [],
   "source": [
    "url_contents = response.text"
   ]
  },
  {
   "cell_type": "markdown",
   "metadata": {},
   "source": [
    "Let's look at the first 1000 characters of our url."
   ]
  },
  {
   "cell_type": "code",
   "execution_count": 131,
   "metadata": {},
   "outputs": [
    {
     "data": {
      "text/plain": [
       "'<!DOCTYPE html><html data-color-theme=\"light\" id=\"atomic\" class=\"NoJs desktop\" lang=\"en-US\"><head prefix=\"og: http://ogp.me/ns#\"><script>window.performance && window.performance.mark && window.performance.mark(\\'PageStart\\');</script><meta charSet=\"utf-8\"/><title>Most Active Stocks Today - Yahoo Finance</title><meta name=\"keywords\" content=\"Stock Screener, industry, index membership, share data, stock price, market cap, beta, sales, profitability, valuation ratios, analyst estimates, large cap value, bargain growth, preset stock screens\"/><meta http-equiv=\"x-dns-prefetch-control\" content=\"on\"/><meta property=\"twitter:dnt\" content=\"on\"/><meta property=\"fb:app_id\" content=\"458584288257241\"/><meta name=\"theme-color\" content=\"#400090\"/><meta name=\"viewport\" content=\"width=device-width, initial-scale=1\"/><meta name=\"description\" lang=\"en-US\" content=\"See the list of the most active stocks today, including share price change and percentage, trading volume, intraday highs and lows, and day char'"
      ]
     },
     "execution_count": 131,
     "metadata": {},
     "output_type": "execute_result"
    }
   ],
   "source": [
    "url_contents[:1000]"
   ]
  },
  {
   "cell_type": "markdown",
   "metadata": {},
   "source": [
    "We'll now save our url as a html file."
   ]
  },
  {
   "cell_type": "code",
   "execution_count": 132,
   "metadata": {},
   "outputs": [],
   "source": [
    "with open('yahoo-finance-most-active.html', 'w', encoding=\"utf-8\") as file:\n",
    "    file.write(url_contents)"
   ]
  },
  {
   "cell_type": "markdown",
   "metadata": {},
   "source": [
    "We can create a function that downloads any url as a html file so that we can parse them for information."
   ]
  },
  {
   "cell_type": "code",
   "execution_count": 133,
   "metadata": {},
   "outputs": [],
   "source": [
    "def download_web_page(url):\n",
    "    headers = {\n",
    "    'User-Agent': 'Nadya DeBeers',\n",
    "    'From': 'nadya.debeers@hotmail.com'\n",
    "}\n",
    "    response = requests.get(url, headers=headers)\n",
    "    status_code = response.status_code\n",
    "    if status_code in range(200,300):\n",
    "        url_contents = response.text\n",
    "        with open('new-downloaded-web-page.html', 'w', encoding=\"utf-8\") as file:\n",
    "            file.write(url_contents)\n",
    "        print('Status code is within an okay range of {}.'.format(status_code))\n",
    "        \n",
    "    else: \n",
    "        return"
   ]
  },
  {
   "cell_type": "markdown",
   "metadata": {},
   "source": [
    "We can download another article from Yahoo! Finance about cryptocurrencies with our function."
   ]
  },
  {
   "cell_type": "code",
   "execution_count": 134,
   "metadata": {},
   "outputs": [
    {
     "name": "stdout",
     "output_type": "stream",
     "text": [
      "Status code is within an okay range of 200.\n"
     ]
    }
   ],
   "source": [
    "download_web_page('https://finance.yahoo.com/cryptocurrencies/')"
   ]
  },
  {
   "cell_type": "markdown",
   "metadata": {},
   "source": [
    "### 2. Create a BeautifulSoup document for parsing"
   ]
  },
  {
   "cell_type": "markdown",
   "metadata": {},
   "source": [
    "We'll download the BeautifulSoup library so we can parse the articles."
   ]
  },
  {
   "cell_type": "code",
   "execution_count": 135,
   "metadata": {},
   "outputs": [],
   "source": [
    "!pip install beautifulsoup4 --upgrade --quiet\n",
    "from bs4 import BeautifulSoup"
   ]
  },
  {
   "cell_type": "code",
   "execution_count": 136,
   "metadata": {},
   "outputs": [],
   "source": [
    "with open('yahoo-finance-most-active.html', 'r') as f:\n",
    "    html_source = f.read()"
   ]
  },
  {
   "cell_type": "code",
   "execution_count": 137,
   "metadata": {},
   "outputs": [
    {
     "data": {
      "text/plain": [
       "1321516"
      ]
     },
     "execution_count": 137,
     "metadata": {},
     "output_type": "execute_result"
    }
   ],
   "source": [
    "len(html_source)"
   ]
  },
  {
   "cell_type": "code",
   "execution_count": 138,
   "metadata": {},
   "outputs": [],
   "source": [
    "with open('yahoo-finance-most-active.html', 'r') as f:\n",
    "    html_source = f.read()\n",
    "doc = BeautifulSoup(html_source, 'html.parser')"
   ]
  },
  {
   "cell_type": "markdown",
   "metadata": {},
   "source": [
    "We can extract the title of the article."
   ]
  },
  {
   "cell_type": "code",
   "execution_count": 139,
   "metadata": {},
   "outputs": [],
   "source": [
    "title = doc.title"
   ]
  },
  {
   "cell_type": "code",
   "execution_count": 140,
   "metadata": {},
   "outputs": [
    {
     "data": {
      "text/plain": [
       "'Most Active Stocks Today - Yahoo Finance'"
      ]
     },
     "execution_count": 140,
     "metadata": {},
     "output_type": "execute_result"
    }
   ],
   "source": [
    "title.text"
   ]
  },
  {
   "cell_type": "markdown",
   "metadata": {},
   "source": [
    "### 3. Parse the BeautifulSoup document"
   ]
  },
  {
   "cell_type": "markdown",
   "metadata": {},
   "source": [
    "We'll now identify the tags and classes that encompass the information that we're interested in. \n",
    "\n",
    "As you can see in the image below, the stock information is located within the ```tr_tag```. The class slightly differs as the rows are coloured differently. We can use a subset of the class, ```class_='simpTblRow'``` that is common to both class types. "
   ]
  },
  {
   "cell_type": "markdown",
   "metadata": {},
   "source": [
    "![](https://i.imgur.com/8FvOL33.png)"
   ]
  },
  {
   "cell_type": "code",
   "execution_count": 141,
   "metadata": {},
   "outputs": [
    {
     "data": {
      "text/plain": [
       "[<tr class=\"simpTblRow Bgc($hoverBgColor):h BdB Bdbc($seperatorColor) Bdbc($tableBorderBlue):h H(32px) Bgc($lv2BgColor)\"><td aria-label=\"Symbol\" class=\"Va(m) Ta(start) Pstart(6px) Pend(10px) Miw(90px) Start(0) Pend(10px) simpTblRow:h_Bgc($hoverBgColor) Pos(st) Bgc($lv3BgColor) Z(1) Bgc($lv2BgColor) Ta(start)! Fz(s)\" colspan=\"\"><label class=\"Ta(c) Pos(r) Va(tb) Pend(5px) D(n)--print\" data-id=\"portfolio-checkbox\"><input class=\"Pos(a) V(h)\" type=\"checkbox\"/><svg class=\"Va(m)! H(16px) W(16px) Stk($plusGray)! Fill($plusGray)! Cur(p)\" data-icon=\"checkbox-unchecked\" height=\"16\" style=\"fill:#000;stroke:#000;stroke-width:0;vertical-align:bottom\" viewbox=\"0 0 24 24\" width=\"16\"><path d=\"M3 3h18v18H3V3zm19-2H2c-.553 0-1 .448-1 1v20c0 .552.447 1 1 1h20c.552 0 1-.448 1-1V2c0-.552-.448-1-1-1z\"></path></svg></label><a class=\"Fw(600) C($linkColor)\" data-test=\"quoteLink\" href=\"/quote/AMD?p=AMD\" title=\"Advanced Micro Devices, Inc.\">AMD</a><div class=\"W(3px) Pos(a) Start(100%) T(0) H(100%) Bg($pfColumnFakeShadowGradient) Pe(n) Pend(5px)\"></div></td><td aria-label=\"Name\" class=\"Va(m) Ta(start) Px(10px) Fz(s)\" colspan=\"\">Advanced Micro Devices, Inc.</td><td aria-label=\"Price (Intraday)\" class=\"Va(m) Ta(end) Pstart(20px) Fw(600) Fz(s)\" colspan=\"\"><fin-streamer active=\"\" class=\"\" data-field=\"regularMarketPrice\" data-pricehint=\"2\" data-symbol=\"AMD\" data-test=\"colorChange\" data-trend=\"none\" value=\"80.24\">80.24</fin-streamer></td><td aria-label=\"Change\" class=\"Va(m) Ta(end) Pstart(20px) Fw(600) Fz(s)\" colspan=\"\"><fin-streamer active=\"\" class=\"Fw(600)\" data-field=\"regularMarketChange\" data-pricehint=\"2\" data-symbol=\"AMD\" data-test=\"colorChange\" data-trend=\"txt\" value=\"-2.090004\"><span class=\"C($negativeColor)\">-2.09</span></fin-streamer></td><td aria-label=\"% Change\" class=\"Va(m) Ta(end) Pstart(20px) Fw(600) Fz(s)\" colspan=\"\"><fin-streamer active=\"\" class=\"Fw(600)\" data-field=\"regularMarketChangePercent\" data-pricehint=\"2\" data-symbol=\"AMD\" data-test=\"colorChange\" data-trend=\"txt\" value=\"-2.538569\"><span class=\"C($negativeColor)\">-2.54%</span></fin-streamer></td><td aria-label=\"Volume\" class=\"Va(m) Ta(end) Pstart(20px) Fz(s)\" colspan=\"\"><fin-streamer active=\"\" class=\"\" data-field=\"regularMarketVolume\" data-pricehint=\"2\" data-symbol=\"AMD\" data-test=\"colorChange\" data-trend=\"none\" value=\"84924445\">84.924M</fin-streamer></td><td aria-label=\"Avg Vol (3 month)\" class=\"Va(m) Ta(end) Pstart(20px) Fz(s)\" colspan=\"\">84.344M</td><td aria-label=\"Market Cap\" class=\"Va(m) Ta(end) Pstart(20px) Pend(10px) W(120px) Fz(s)\" colspan=\"\"><fin-streamer active=\"\" class=\"\" data-field=\"marketCap\" data-pricehint=\"2\" data-symbol=\"AMD\" data-test=\"colorChange\" data-trend=\"none\" value=\"129533034496\">129.533B</fin-streamer></td><td aria-label=\"PE Ratio (TTM)\" class=\"Va(m) Ta(end) Pstart(20px) Fz(s)\" colspan=\"\">35.19</td><td aria-label=\"52 Week Range\" class=\"Va(m) Ta(end) Pstart(20px) Pend(6px) Fz(s)\" colspan=\"\"><canvas style=\"width:140px;height:23px\"></canvas></td></tr>,\n",
       " <tr class=\"simpTblRow Bgc($hoverBgColor):h BdB Bdbc($seperatorColor) Bdbc($tableBorderBlue):h H(32px) Bgc($lv1BgColor)\"><td aria-label=\"Symbol\" class=\"Va(m) Ta(start) Pstart(6px) Pend(10px) Miw(90px) Start(0) Pend(10px) simpTblRow:h_Bgc($hoverBgColor) Pos(st) Bgc($lv3BgColor) Z(1) Bgc($lv1BgColor) Ta(start)! Fz(s)\" colspan=\"\"><label class=\"Ta(c) Pos(r) Va(tb) Pend(5px) D(n)--print\" data-id=\"portfolio-checkbox\"><input class=\"Pos(a) V(h)\" type=\"checkbox\"/><svg class=\"Va(m)! H(16px) W(16px) Stk($plusGray)! Fill($plusGray)! Cur(p)\" data-icon=\"checkbox-unchecked\" height=\"16\" style=\"fill:#000;stroke:#000;stroke-width:0;vertical-align:bottom\" viewbox=\"0 0 24 24\" width=\"16\"><path d=\"M3 3h18v18H3V3zm19-2H2c-.553 0-1 .448-1 1v20c0 .552.447 1 1 1h20c.552 0 1-.448 1-1V2c0-.552-.448-1-1-1z\"></path></svg></label><a class=\"Fw(600) C($linkColor)\" data-test=\"quoteLink\" href=\"/quote/AAPL?p=AAPL\" title=\"Apple Inc.\">AAPL</a><div class=\"W(3px) Pos(a) Start(100%) T(0) H(100%) Bg($pfColumnFakeShadowGradient) Pe(n) Pend(5px)\"></div></td><td aria-label=\"Name\" class=\"Va(m) Ta(start) Px(10px) Fz(s)\" colspan=\"\">Apple Inc.</td><td aria-label=\"Price (Intraday)\" class=\"Va(m) Ta(end) Pstart(20px) Fw(600) Fz(s)\" colspan=\"\"><fin-streamer active=\"\" class=\"\" data-field=\"regularMarketPrice\" data-pricehint=\"2\" data-symbol=\"AAPL\" data-test=\"colorChange\" data-trend=\"none\" value=\"155.81\">155.81</fin-streamer></td><td aria-label=\"Change\" class=\"Va(m) Ta(end) Pstart(20px) Fw(600) Fz(s)\" colspan=\"\"><fin-streamer active=\"\" class=\"Fw(600)\" data-field=\"regularMarketChange\" data-pricehint=\"2\" data-symbol=\"AAPL\" data-test=\"colorChange\" data-trend=\"txt\" value=\"-2.1500092\"><span class=\"C($negativeColor)\">-2.15</span></fin-streamer></td><td aria-label=\"% Change\" class=\"Va(m) Ta(end) Pstart(20px) Fw(600) Fz(s)\" colspan=\"\"><fin-streamer active=\"\" class=\"Fw(600)\" data-field=\"regularMarketChangePercent\" data-pricehint=\"2\" data-symbol=\"AAPL\" data-test=\"colorChange\" data-trend=\"txt\" value=\"-1.3611097\"><span class=\"C($negativeColor)\">-1.36%</span></fin-streamer></td><td aria-label=\"Volume\" class=\"Va(m) Ta(end) Pstart(20px) Fz(s)\" colspan=\"\"><fin-streamer active=\"\" class=\"\" data-field=\"regularMarketVolume\" data-pricehint=\"2\" data-symbol=\"AAPL\" data-test=\"colorChange\" data-trend=\"none\" value=\"76309969\">76.31M</fin-streamer></td><td aria-label=\"Avg Vol (3 month)\" class=\"Va(m) Ta(end) Pstart(20px) Fz(s)\" colspan=\"\">73.365M</td><td aria-label=\"Market Cap\" class=\"Va(m) Ta(end) Pstart(20px) Pend(10px) W(120px) Fz(s)\" colspan=\"\"><fin-streamer active=\"\" class=\"\" data-field=\"marketCap\" data-pricehint=\"2\" data-symbol=\"AAPL\" data-test=\"colorChange\" data-trend=\"none\" value=\"2503991361536\">2.504T</fin-streamer></td><td aria-label=\"PE Ratio (TTM)\" class=\"Va(m) Ta(end) Pstart(20px) Fz(s)\" colspan=\"\">25.75</td><td aria-label=\"52 Week Range\" class=\"Va(m) Ta(end) Pstart(20px) Pend(6px) Fz(s)\" colspan=\"\"><canvas style=\"width:140px;height:23px\"></canvas></td></tr>]"
      ]
     },
     "execution_count": 141,
     "metadata": {},
     "output_type": "execute_result"
    }
   ],
   "source": [
    "tr_class_tags = doc.find_all('tr',class_='simpTblRow')\n",
    "tr_class_tags[:2]"
   ]
  },
  {
   "cell_type": "markdown",
   "metadata": {},
   "source": [
    "We can check to make sure there are 100 ```tr_tag``` which is what we would expect since the article shows the top 100 stocks."
   ]
  },
  {
   "cell_type": "code",
   "execution_count": 142,
   "metadata": {},
   "outputs": [
    {
     "name": "stdout",
     "output_type": "stream",
     "text": [
      "We have the correct amount of tr tags.\n"
     ]
    }
   ],
   "source": [
    "tr_tag_amount = len(tr_class_tags)\n",
    "if tr_tag_amount == 100:\n",
    "    print(\"We have the correct amount of tr tags.\")"
   ]
  },
  {
   "cell_type": "markdown",
   "metadata": {},
   "source": [
    "We can now look at the first ```tr_tag``` which encompasses the stock OXY. "
   ]
  },
  {
   "cell_type": "code",
   "execution_count": 143,
   "metadata": {},
   "outputs": [
    {
     "data": {
      "text/plain": [
       "<tr class=\"simpTblRow Bgc($hoverBgColor):h BdB Bdbc($seperatorColor) Bdbc($tableBorderBlue):h H(32px) Bgc($lv2BgColor)\"><td aria-label=\"Symbol\" class=\"Va(m) Ta(start) Pstart(6px) Pend(10px) Miw(90px) Start(0) Pend(10px) simpTblRow:h_Bgc($hoverBgColor) Pos(st) Bgc($lv3BgColor) Z(1) Bgc($lv2BgColor) Ta(start)! Fz(s)\" colspan=\"\"><label class=\"Ta(c) Pos(r) Va(tb) Pend(5px) D(n)--print\" data-id=\"portfolio-checkbox\"><input class=\"Pos(a) V(h)\" type=\"checkbox\"/><svg class=\"Va(m)! H(16px) W(16px) Stk($plusGray)! Fill($plusGray)! Cur(p)\" data-icon=\"checkbox-unchecked\" height=\"16\" style=\"fill:#000;stroke:#000;stroke-width:0;vertical-align:bottom\" viewbox=\"0 0 24 24\" width=\"16\"><path d=\"M3 3h18v18H3V3zm19-2H2c-.553 0-1 .448-1 1v20c0 .552.447 1 1 1h20c.552 0 1-.448 1-1V2c0-.552-.448-1-1-1z\"></path></svg></label><a class=\"Fw(600) C($linkColor)\" data-test=\"quoteLink\" href=\"/quote/AMD?p=AMD\" title=\"Advanced Micro Devices, Inc.\">AMD</a><div class=\"W(3px) Pos(a) Start(100%) T(0) H(100%) Bg($pfColumnFakeShadowGradient) Pe(n) Pend(5px)\"></div></td><td aria-label=\"Name\" class=\"Va(m) Ta(start) Px(10px) Fz(s)\" colspan=\"\">Advanced Micro Devices, Inc.</td><td aria-label=\"Price (Intraday)\" class=\"Va(m) Ta(end) Pstart(20px) Fw(600) Fz(s)\" colspan=\"\"><fin-streamer active=\"\" class=\"\" data-field=\"regularMarketPrice\" data-pricehint=\"2\" data-symbol=\"AMD\" data-test=\"colorChange\" data-trend=\"none\" value=\"80.24\">80.24</fin-streamer></td><td aria-label=\"Change\" class=\"Va(m) Ta(end) Pstart(20px) Fw(600) Fz(s)\" colspan=\"\"><fin-streamer active=\"\" class=\"Fw(600)\" data-field=\"regularMarketChange\" data-pricehint=\"2\" data-symbol=\"AMD\" data-test=\"colorChange\" data-trend=\"txt\" value=\"-2.090004\"><span class=\"C($negativeColor)\">-2.09</span></fin-streamer></td><td aria-label=\"% Change\" class=\"Va(m) Ta(end) Pstart(20px) Fw(600) Fz(s)\" colspan=\"\"><fin-streamer active=\"\" class=\"Fw(600)\" data-field=\"regularMarketChangePercent\" data-pricehint=\"2\" data-symbol=\"AMD\" data-test=\"colorChange\" data-trend=\"txt\" value=\"-2.538569\"><span class=\"C($negativeColor)\">-2.54%</span></fin-streamer></td><td aria-label=\"Volume\" class=\"Va(m) Ta(end) Pstart(20px) Fz(s)\" colspan=\"\"><fin-streamer active=\"\" class=\"\" data-field=\"regularMarketVolume\" data-pricehint=\"2\" data-symbol=\"AMD\" data-test=\"colorChange\" data-trend=\"none\" value=\"84924445\">84.924M</fin-streamer></td><td aria-label=\"Avg Vol (3 month)\" class=\"Va(m) Ta(end) Pstart(20px) Fz(s)\" colspan=\"\">84.344M</td><td aria-label=\"Market Cap\" class=\"Va(m) Ta(end) Pstart(20px) Pend(10px) W(120px) Fz(s)\" colspan=\"\"><fin-streamer active=\"\" class=\"\" data-field=\"marketCap\" data-pricehint=\"2\" data-symbol=\"AMD\" data-test=\"colorChange\" data-trend=\"none\" value=\"129533034496\">129.533B</fin-streamer></td><td aria-label=\"PE Ratio (TTM)\" class=\"Va(m) Ta(end) Pstart(20px) Fz(s)\" colspan=\"\">35.19</td><td aria-label=\"52 Week Range\" class=\"Va(m) Ta(end) Pstart(20px) Pend(6px) Fz(s)\" colspan=\"\"><canvas style=\"width:140px;height:23px\"></canvas></td></tr>"
      ]
     },
     "execution_count": 143,
     "metadata": {},
     "output_type": "execute_result"
    }
   ],
   "source": [
    "tr_class_tag1 = tr_class_tags[0]\n",
    "tr_class_tag1"
   ]
  },
  {
   "cell_type": "markdown",
   "metadata": {},
   "source": [
    "If we look within the first ```tr_tag``` in the image below, we can see that each element of the stock is within a ```td_tag```. We'll extract these tags next. \n",
    "\n",
    "Once we extract the ```td_tag```, we can then go on to extract the ```a_tag``` which is where the stock ticker is located (OXY). \n",
    "\n",
    "A stock ticker is the acronym that represent a stock."
   ]
  },
  {
   "cell_type": "markdown",
   "metadata": {},
   "source": [
    "![](https://i.imgur.com/wpmGEYY.png)"
   ]
  },
  {
   "cell_type": "code",
   "execution_count": 144,
   "metadata": {},
   "outputs": [
    {
     "data": {
      "text/plain": [
       "[<td aria-label=\"Symbol\" class=\"Va(m) Ta(start) Pstart(6px) Pend(10px) Miw(90px) Start(0) Pend(10px) simpTblRow:h_Bgc($hoverBgColor) Pos(st) Bgc($lv3BgColor) Z(1) Bgc($lv2BgColor) Ta(start)! Fz(s)\" colspan=\"\"><label class=\"Ta(c) Pos(r) Va(tb) Pend(5px) D(n)--print\" data-id=\"portfolio-checkbox\"><input class=\"Pos(a) V(h)\" type=\"checkbox\"/><svg class=\"Va(m)! H(16px) W(16px) Stk($plusGray)! Fill($plusGray)! Cur(p)\" data-icon=\"checkbox-unchecked\" height=\"16\" style=\"fill:#000;stroke:#000;stroke-width:0;vertical-align:bottom\" viewbox=\"0 0 24 24\" width=\"16\"><path d=\"M3 3h18v18H3V3zm19-2H2c-.553 0-1 .448-1 1v20c0 .552.447 1 1 1h20c.552 0 1-.448 1-1V2c0-.552-.448-1-1-1z\"></path></svg></label><a class=\"Fw(600) C($linkColor)\" data-test=\"quoteLink\" href=\"/quote/AMD?p=AMD\" title=\"Advanced Micro Devices, Inc.\">AMD</a><div class=\"W(3px) Pos(a) Start(100%) T(0) H(100%) Bg($pfColumnFakeShadowGradient) Pe(n) Pend(5px)\"></div></td>,\n",
       " <td aria-label=\"Name\" class=\"Va(m) Ta(start) Px(10px) Fz(s)\" colspan=\"\">Advanced Micro Devices, Inc.</td>,\n",
       " <td aria-label=\"Price (Intraday)\" class=\"Va(m) Ta(end) Pstart(20px) Fw(600) Fz(s)\" colspan=\"\"><fin-streamer active=\"\" class=\"\" data-field=\"regularMarketPrice\" data-pricehint=\"2\" data-symbol=\"AMD\" data-test=\"colorChange\" data-trend=\"none\" value=\"80.24\">80.24</fin-streamer></td>,\n",
       " <td aria-label=\"Change\" class=\"Va(m) Ta(end) Pstart(20px) Fw(600) Fz(s)\" colspan=\"\"><fin-streamer active=\"\" class=\"Fw(600)\" data-field=\"regularMarketChange\" data-pricehint=\"2\" data-symbol=\"AMD\" data-test=\"colorChange\" data-trend=\"txt\" value=\"-2.090004\"><span class=\"C($negativeColor)\">-2.09</span></fin-streamer></td>,\n",
       " <td aria-label=\"% Change\" class=\"Va(m) Ta(end) Pstart(20px) Fw(600) Fz(s)\" colspan=\"\"><fin-streamer active=\"\" class=\"Fw(600)\" data-field=\"regularMarketChangePercent\" data-pricehint=\"2\" data-symbol=\"AMD\" data-test=\"colorChange\" data-trend=\"txt\" value=\"-2.538569\"><span class=\"C($negativeColor)\">-2.54%</span></fin-streamer></td>,\n",
       " <td aria-label=\"Volume\" class=\"Va(m) Ta(end) Pstart(20px) Fz(s)\" colspan=\"\"><fin-streamer active=\"\" class=\"\" data-field=\"regularMarketVolume\" data-pricehint=\"2\" data-symbol=\"AMD\" data-test=\"colorChange\" data-trend=\"none\" value=\"84924445\">84.924M</fin-streamer></td>,\n",
       " <td aria-label=\"Avg Vol (3 month)\" class=\"Va(m) Ta(end) Pstart(20px) Fz(s)\" colspan=\"\">84.344M</td>,\n",
       " <td aria-label=\"Market Cap\" class=\"Va(m) Ta(end) Pstart(20px) Pend(10px) W(120px) Fz(s)\" colspan=\"\"><fin-streamer active=\"\" class=\"\" data-field=\"marketCap\" data-pricehint=\"2\" data-symbol=\"AMD\" data-test=\"colorChange\" data-trend=\"none\" value=\"129533034496\">129.533B</fin-streamer></td>,\n",
       " <td aria-label=\"PE Ratio (TTM)\" class=\"Va(m) Ta(end) Pstart(20px) Fz(s)\" colspan=\"\">35.19</td>,\n",
       " <td aria-label=\"52 Week Range\" class=\"Va(m) Ta(end) Pstart(20px) Pend(6px) Fz(s)\" colspan=\"\"><canvas style=\"width:140px;height:23px\"></canvas></td>]"
      ]
     },
     "execution_count": 144,
     "metadata": {},
     "output_type": "execute_result"
    }
   ],
   "source": [
    "td_tag = tr_class_tag1.find_all('td')\n",
    "td_tag"
   ]
  },
  {
   "cell_type": "code",
   "execution_count": 145,
   "metadata": {},
   "outputs": [
    {
     "data": {
      "text/plain": [
       "[<a class=\"Fw(600) C($linkColor)\" data-test=\"quoteLink\" href=\"/quote/AMD?p=AMD\" title=\"Advanced Micro Devices, Inc.\">AMD</a>]"
      ]
     },
     "execution_count": 145,
     "metadata": {},
     "output_type": "execute_result"
    }
   ],
   "source": [
    "a_tag = td_tag[0].find_all('a', recursive=False)\n",
    "a_tag"
   ]
  },
  {
   "cell_type": "markdown",
   "metadata": {},
   "source": [
    "We'll now extract each of the elements of the first stock."
   ]
  },
  {
   "cell_type": "code",
   "execution_count": 146,
   "metadata": {},
   "outputs": [
    {
     "data": {
      "text/plain": [
       "'AMD'"
      ]
     },
     "execution_count": 146,
     "metadata": {},
     "output_type": "execute_result"
    }
   ],
   "source": [
    "ticker_name = a_tag[0].text.strip()\n",
    "ticker_name"
   ]
  },
  {
   "cell_type": "code",
   "execution_count": 147,
   "metadata": {},
   "outputs": [
    {
     "data": {
      "text/plain": [
       "'Advanced Micro Devices, Inc.'"
      ]
     },
     "execution_count": 147,
     "metadata": {},
     "output_type": "execute_result"
    }
   ],
   "source": [
    "name_tag = td_tag[1].text\n",
    "name_tag"
   ]
  },
  {
   "cell_type": "code",
   "execution_count": 148,
   "metadata": {},
   "outputs": [
    {
     "data": {
      "text/plain": [
       "'80.24'"
      ]
     },
     "execution_count": 148,
     "metadata": {},
     "output_type": "execute_result"
    }
   ],
   "source": [
    "price_tag = td_tag[2].text\n",
    "price_tag"
   ]
  },
  {
   "cell_type": "code",
   "execution_count": 149,
   "metadata": {},
   "outputs": [
    {
     "data": {
      "text/plain": [
       "'-2.09'"
      ]
     },
     "execution_count": 149,
     "metadata": {},
     "output_type": "execute_result"
    }
   ],
   "source": [
    "daily_change_tag = td_tag[3].text\n",
    "daily_change_tag"
   ]
  },
  {
   "cell_type": "code",
   "execution_count": 150,
   "metadata": {},
   "outputs": [
    {
     "data": {
      "text/plain": [
       "'-2.54%'"
      ]
     },
     "execution_count": 150,
     "metadata": {},
     "output_type": "execute_result"
    }
   ],
   "source": [
    "daily_percentage_change_tag = td_tag[4].text\n",
    "daily_percentage_change_tag"
   ]
  },
  {
   "cell_type": "code",
   "execution_count": 151,
   "metadata": {},
   "outputs": [
    {
     "data": {
      "text/plain": [
       "'84.924M'"
      ]
     },
     "execution_count": 151,
     "metadata": {},
     "output_type": "execute_result"
    }
   ],
   "source": [
    "volume_tag = td_tag[5].text\n",
    "volume_tag"
   ]
  },
  {
   "cell_type": "code",
   "execution_count": 152,
   "metadata": {},
   "outputs": [
    {
     "data": {
      "text/plain": [
       "'84.344M'"
      ]
     },
     "execution_count": 152,
     "metadata": {},
     "output_type": "execute_result"
    }
   ],
   "source": [
    "avg_volume_tag = td_tag[6].text\n",
    "avg_volume_tag"
   ]
  },
  {
   "cell_type": "code",
   "execution_count": 153,
   "metadata": {},
   "outputs": [
    {
     "data": {
      "text/plain": [
       "'129.533B'"
      ]
     },
     "execution_count": 153,
     "metadata": {},
     "output_type": "execute_result"
    }
   ],
   "source": [
    "market_cap_tag = td_tag[7].text\n",
    "market_cap_tag"
   ]
  },
  {
   "cell_type": "code",
   "execution_count": 154,
   "metadata": {},
   "outputs": [
    {
     "data": {
      "text/plain": [
       "'35.19'"
      ]
     },
     "execution_count": 154,
     "metadata": {},
     "output_type": "execute_result"
    }
   ],
   "source": [
    "pe_ratio_tag = td_tag[8].text\n",
    "pe_ratio_tag"
   ]
  },
  {
   "cell_type": "markdown",
   "metadata": {},
   "source": [
    "Because volume, market capitalisation, and PE ratios are sometimes represented with M, k, and B to represent million, thousand, and billion respectively, we can create a function that turns these values into integers so that we can compare them more easily."
   ]
  },
  {
   "cell_type": "code",
   "execution_count": 155,
   "metadata": {},
   "outputs": [],
   "source": [
    "def parse_volume_market_tag(tag):\n",
    "    volume_str = tag.strip()\n",
    "    if volume_str[-1] == 'M':\n",
    "        return int(float(volume_str[:-1]) * 1000000)\n",
    "    elif volume_str[-1] == 'k':\n",
    "        return int(float(volume_str[:-1]) * 1000)\n",
    "    elif volume_str[-1] == 'B':\n",
    "        return int(float(volume_str[:-1]) * 1000000000)\n",
    "    elif volume_str[-1] == 'T':\n",
    "        return int(float(volume_str[:-1]) * 1000000000000)\n",
    "    else:\n",
    "        return int(volume_str.replace(',', ''))"
   ]
  },
  {
   "cell_type": "code",
   "execution_count": 156,
   "metadata": {},
   "outputs": [
    {
     "data": {
      "text/plain": [
       "5000"
      ]
     },
     "execution_count": 156,
     "metadata": {},
     "output_type": "execute_result"
    }
   ],
   "source": [
    "parse_volume_market_tag('5k')"
   ]
  },
  {
   "cell_type": "code",
   "execution_count": 157,
   "metadata": {},
   "outputs": [
    {
     "data": {
      "text/plain": [
       "200300000"
      ]
     },
     "execution_count": 157,
     "metadata": {},
     "output_type": "execute_result"
    }
   ],
   "source": [
    "parse_volume_market_tag('200.3M')"
   ]
  },
  {
   "cell_type": "code",
   "execution_count": 158,
   "metadata": {},
   "outputs": [
    {
     "data": {
      "text/plain": [
       "200"
      ]
     },
     "execution_count": 158,
     "metadata": {},
     "output_type": "execute_result"
    }
   ],
   "source": [
    "parse_volume_market_tag('200')"
   ]
  },
  {
   "cell_type": "code",
   "execution_count": 159,
   "metadata": {},
   "outputs": [
    {
     "data": {
      "text/plain": [
       "200400000000"
      ]
     },
     "execution_count": 159,
     "metadata": {},
     "output_type": "execute_result"
    }
   ],
   "source": [
    "parse_volume_market_tag('200.4B')"
   ]
  },
  {
   "cell_type": "code",
   "execution_count": 160,
   "metadata": {},
   "outputs": [
    {
     "data": {
      "text/plain": [
       "200500"
      ]
     },
     "execution_count": 160,
     "metadata": {},
     "output_type": "execute_result"
    }
   ],
   "source": [
    "parse_volume_market_tag('200,500')"
   ]
  },
  {
   "cell_type": "markdown",
   "metadata": {},
   "source": [
    "### 4. Create functions to display information"
   ]
  },
  {
   "cell_type": "markdown",
   "metadata": {},
   "source": [
    "We'll now create a function that can parse a ```tr_tag``` and create a corresponding dictionary of all the stock information."
   ]
  },
  {
   "cell_type": "code",
   "execution_count": 161,
   "metadata": {},
   "outputs": [],
   "source": [
    "def parse_stocks(tr_class_tag):\n",
    "    # <td> tags contain all of the stock info, <tr tags contain all of the individual details, <a> tags contain ticker name\n",
    "    td_tag = tr_class_tag.find_all('td')\n",
    "    a_tag = td_tag[0].find('a', recursive=False)\n",
    "    # Stock ticker\n",
    "    ticker_name = a_tag.text.strip()\n",
    "    # Stock name\n",
    "    name_tag = (td_tag[1].text).replace(\",\", \"\")\n",
    "    # Last price of stock\n",
    "    price_tag = float(td_tag[2].text)\n",
    "    # Stock change\n",
    "    daily_change_tag = td_tag[3].text\n",
    "    # Percentage change\n",
    "    daily_percentage_change_tag = td_tag[4].text\n",
    "    #Volume \n",
    "    volume_tag = parse_volume_market_tag(td_tag[5].text)\n",
    "    # Avg volume \n",
    "    avg_volume_tag = parse_volume_market_tag(td_tag[6].text)\n",
    "    # Market cap\n",
    "    market_cap_tag = parse_volume_market_tag(td_tag[7].text)\n",
    "    # PE ratio\n",
    "    pe_ratio_tag = td_tag[8].text\n",
    "    # Return a dictionary\n",
    "    return {\n",
    "        'Stock ticker': ticker_name,\n",
    "        'Stock name': name_tag,        \n",
    "        'Last price of stock': price_tag,\n",
    "        'Stock change': daily_change_tag,\n",
    "        'Stock percentage change' : daily_percentage_change_tag,\n",
    "        'Volume' : volume_tag,\n",
    "        'Average volume over 3 months' : avg_volume_tag,\n",
    "        'Market cap' : market_cap_tag,\n",
    "        'PE ratio' : pe_ratio_tag\n",
    "    }"
   ]
  },
  {
   "cell_type": "code",
   "execution_count": 162,
   "metadata": {},
   "outputs": [
    {
     "data": {
      "text/plain": [
       "{'Stock ticker': 'AMD',\n",
       " 'Stock name': 'Advanced Micro Devices Inc.',\n",
       " 'Last price of stock': 80.24,\n",
       " 'Stock change': '-2.09',\n",
       " 'Stock percentage change': '-2.54%',\n",
       " 'Volume': 84924000,\n",
       " 'Average volume over 3 months': 84344000,\n",
       " 'Market cap': 129532999999,\n",
       " 'PE ratio': '35.19'}"
      ]
     },
     "execution_count": 162,
     "metadata": {},
     "output_type": "execute_result"
    }
   ],
   "source": [
    "parse_stocks(tr_class_tags[0])"
   ]
  },
  {
   "cell_type": "code",
   "execution_count": 163,
   "metadata": {},
   "outputs": [
    {
     "data": {
      "text/plain": [
       "{'Stock ticker': 'AMZN',\n",
       " 'Stock name': 'Amazon.com Inc.',\n",
       " 'Last price of stock': 127.51,\n",
       " 'Stock change': '-0.31',\n",
       " 'Stock percentage change': '-0.24%',\n",
       " 'Volume': 57430000,\n",
       " 'Average volume over 3 months': 64506000,\n",
       " 'Market cap': 1299000000000,\n",
       " 'PE ratio': '113.85'}"
      ]
     },
     "execution_count": 163,
     "metadata": {},
     "output_type": "execute_result"
    }
   ],
   "source": [
    "parse_stocks(tr_class_tags[4])"
   ]
  },
  {
   "cell_type": "markdown",
   "metadata": {},
   "source": [
    "We can also create a function to list all of the stock tickers from the article."
   ]
  },
  {
   "cell_type": "code",
   "execution_count": 164,
   "metadata": {},
   "outputs": [],
   "source": [
    "def list_tickers(tr_class_tag):\n",
    "    td_tag = tr_class_tag.find_all('td')\n",
    "    a_tag = td_tag[0].find('a', recursive=False)\n",
    "    # Stock ticker\n",
    "    ticker_name = a_tag.text.strip()\n",
    "    return ticker_name"
   ]
  },
  {
   "cell_type": "code",
   "execution_count": 165,
   "metadata": {},
   "outputs": [
    {
     "data": {
      "text/plain": [
       "'AMZN'"
      ]
     },
     "execution_count": 165,
     "metadata": {},
     "output_type": "execute_result"
    }
   ],
   "source": [
    "list_tickers(tr_class_tags[4])"
   ]
  },
  {
   "cell_type": "code",
   "execution_count": 166,
   "metadata": {},
   "outputs": [
    {
     "data": {
      "text/plain": [
       "['AMD', 'AAPL', 'NVDA', 'F', 'AMZN']"
      ]
     },
     "execution_count": 166,
     "metadata": {},
     "output_type": "execute_result"
    }
   ],
   "source": [
    "stock_tickers = [list_tickers(x) for x in tr_class_tags]\n",
    "stock_tickers[:5]"
   ]
  },
  {
   "cell_type": "markdown",
   "metadata": {},
   "source": [
    "We'll now create a function that utilises list comprehension to parse the stock information for all of our stocks at once."
   ]
  },
  {
   "cell_type": "code",
   "execution_count": 167,
   "metadata": {},
   "outputs": [
    {
     "data": {
      "text/plain": [
       "[{'Stock ticker': 'AMD',\n",
       "  'Stock name': 'Advanced Micro Devices Inc.',\n",
       "  'Last price of stock': 80.24,\n",
       "  'Stock change': '-2.09',\n",
       "  'Stock percentage change': '-2.54%',\n",
       "  'Volume': 84924000,\n",
       "  'Average volume over 3 months': 84344000,\n",
       "  'Market cap': 129532999999,\n",
       "  'PE ratio': '35.19'},\n",
       " {'Stock ticker': 'AAPL',\n",
       "  'Stock name': 'Apple Inc.',\n",
       "  'Last price of stock': 155.81,\n",
       "  'Stock change': '-2.15',\n",
       "  'Stock percentage change': '-1.36%',\n",
       "  'Volume': 76310000,\n",
       "  'Average volume over 3 months': 73365000,\n",
       "  'Market cap': 2504000000000,\n",
       "  'PE ratio': '25.75'},\n",
       " {'Stock ticker': 'NVDA',\n",
       "  'Stock name': 'NVIDIA Corporation',\n",
       "  'Last price of stock': 136.47,\n",
       "  'Stock change': '-2.90',\n",
       "  'Stock percentage change': '-2.08%',\n",
       "  'Volume': 74203000,\n",
       "  'Average volume over 3 months': 52884000,\n",
       "  'Market cap': 340083000000,\n",
       "  'PE ratio': '36.60'},\n",
       " {'Stock ticker': 'F',\n",
       "  'Stock name': 'Ford Motor Company',\n",
       "  'Last price of stock': 15.16,\n",
       "  'Stock change': '-0.03',\n",
       "  'Stock percentage change': '-0.20%',\n",
       "  'Volume': 64117999,\n",
       "  'Average volume over 3 months': 60936000,\n",
       "  'Market cap': 60947000000,\n",
       "  'PE ratio': '5.26'},\n",
       " {'Stock ticker': 'AMZN',\n",
       "  'Stock name': 'Amazon.com Inc.',\n",
       "  'Last price of stock': 127.51,\n",
       "  'Stock change': '-0.31',\n",
       "  'Stock percentage change': '-0.24%',\n",
       "  'Volume': 57430000,\n",
       "  'Average volume over 3 months': 64506000,\n",
       "  'Market cap': 1299000000000,\n",
       "  'PE ratio': '113.85'}]"
      ]
     },
     "execution_count": 167,
     "metadata": {},
     "output_type": "execute_result"
    }
   ],
   "source": [
    "most_active_stocks = [parse_stocks(x) for x in tr_class_tags]\n",
    "most_active_stocks[:5]"
   ]
  },
  {
   "cell_type": "markdown",
   "metadata": {},
   "source": [
    "We can put all of our functions together to derive the top 5 most active 101 - 197 stocks from [another url](https://finance.yahoo.com/most-active?count=100&offset=100)."
   ]
  },
  {
   "cell_type": "code",
   "execution_count": 168,
   "metadata": {},
   "outputs": [],
   "source": [
    "def parse_stock_pages(offset_val):\n",
    "\n",
    "    url2 ='https://finance.yahoo.com/most-active?offset={}&count=100'.format(offset_val)\n",
    "\n",
    "    response2 = requests.get(url2, headers=headers)\n",
    "\n",
    "    download_web_page(url2)\n",
    "\n",
    "    with open('new-downloaded-web-page.html', 'r') as f:\n",
    "        html_source3 = f.read()\n",
    "\n",
    "    doc3 = BeautifulSoup(html_source3, 'html.parser')\n",
    "\n",
    "    tr_class_tags3 = doc3.find_all('tr',class_='simpTblRow')\n",
    "\n",
    "    most_active_stocks_100_200 = [parse_stocks(x) for x in tr_class_tags3]\n",
    "    return most_active_stocks_100_200"
   ]
  },
  {
   "cell_type": "code",
   "execution_count": 169,
   "metadata": {},
   "outputs": [
    {
     "name": "stdout",
     "output_type": "stream",
     "text": [
      "Status code is within an okay range of 200.\n"
     ]
    },
    {
     "data": {
      "text/plain": [
       "[{'Stock ticker': 'JWN',\n",
       "  'Stock name': 'Nordstrom Inc.',\n",
       "  'Last price of stock': 17.68,\n",
       "  'Stock change': '+0.19',\n",
       "  'Stock percentage change': '+1.09%',\n",
       "  'Volume': 9969000,\n",
       "  'Average volume over 3 months': 6142000,\n",
       "  'Market cap': 2825000000,\n",
       "  'PE ratio': '6.96'},\n",
       " {'Stock ticker': 'PINS',\n",
       "  'Stock name': 'Pinterest Inc.',\n",
       "  'Last price of stock': 22.07,\n",
       "  'Stock change': '-0.67',\n",
       "  'Stock percentage change': '-2.95%',\n",
       "  'Volume': 9961000,\n",
       "  'Average volume over 3 months': 15717000,\n",
       "  'Market cap': 14863000000,\n",
       "  'PE ratio': '73.57'},\n",
       " {'Stock ticker': 'MS',\n",
       "  'Stock name': 'Morgan Stanley',\n",
       "  'Last price of stock': 86.4,\n",
       "  'Stock change': '+0.23',\n",
       "  'Stock percentage change': '+0.27%',\n",
       "  'Volume': 9771000,\n",
       "  'Average volume over 3 months': 7691000,\n",
       "  'Market cap': 148334000000,\n",
       "  'PE ratio': '11.68'},\n",
       " {'Stock ticker': 'FTCH',\n",
       "  'Stock name': 'Farfetch Limited',\n",
       "  'Last price of stock': 9.37,\n",
       "  'Stock change': '-0.50',\n",
       "  'Stock percentage change': '-5.07%',\n",
       "  'Volume': 9881000,\n",
       "  'Average volume over 3 months': 11330000,\n",
       "  'Market cap': 3573000000,\n",
       "  'PE ratio': 'N/A'},\n",
       " {'Stock ticker': 'SAN',\n",
       "  'Stock name': 'Banco Santander S.A.',\n",
       "  'Last price of stock': 2.35,\n",
       "  'Stock change': '-0.0300',\n",
       "  'Stock percentage change': '-1.26%',\n",
       "  'Volume': 9878000,\n",
       "  'Average volume over 3 months': 6909000,\n",
       "  'Market cap': 39628000000,\n",
       "  'PE ratio': '4.70'}]"
      ]
     },
     "execution_count": 169,
     "metadata": {},
     "output_type": "execute_result"
    }
   ],
   "source": [
    "most_active_5_stocks_next_page = parse_stock_pages(100)[:5]\n",
    "most_active_5_stocks_next_page"
   ]
  },
  {
   "cell_type": "code",
   "execution_count": 170,
   "metadata": {},
   "outputs": [
    {
     "name": "stdout",
     "output_type": "stream",
     "text": [
      "Status code is within an okay range of 200.\n"
     ]
    }
   ],
   "source": [
    "most_active_stocks_100_200 = parse_stock_pages(100)"
   ]
  },
  {
   "cell_type": "markdown",
   "metadata": {},
   "source": [
    "### 5. Create a CSV of the parsed information"
   ]
  },
  {
   "cell_type": "markdown",
   "metadata": {},
   "source": [
    "We can write a function that creates a CSV file from our parsed information."
   ]
  },
  {
   "cell_type": "code",
   "execution_count": 171,
   "metadata": {},
   "outputs": [],
   "source": [
    "def write_csv(items, path):\n",
    "    with open(path, 'w') as f:\n",
    "        if len(items) == 0:\n",
    "            return\n",
    "        \n",
    "        headers = list(items[0].keys())\n",
    "        f.write(','.join(headers) + '\\n')\n",
    "        \n",
    "        for item in items:\n",
    "            values = []\n",
    "            for header in headers:\n",
    "                values.append(str(item.get(header, \"\")))\n",
    "            f.write(','.join(values) + \"\\n\")"
   ]
  },
  {
   "cell_type": "code",
   "execution_count": 172,
   "metadata": {},
   "outputs": [],
   "source": [
    "write_csv(most_active_stocks, 'most-active-stocks.csv')"
   ]
  },
  {
   "cell_type": "code",
   "execution_count": 173,
   "metadata": {},
   "outputs": [],
   "source": [
    "write_csv(most_active_stocks_100_200, 'most-active-stocks-next-page.csv')"
   ]
  },
  {
   "cell_type": "code",
   "execution_count": 174,
   "metadata": {},
   "outputs": [
    {
     "name": "stdout",
     "output_type": "stream",
     "text": [
      "Stock ticker,Stock name,Last price of stock,Stock change,Stock percentage change,Volume,Average volume over 3 months,Market cap,PE ratio\n",
      "AMD,Advanced Micro Devices Inc.,80.24,-2.09,-2.54%,84924000,84344000,129532999999,35.19\n",
      "AAPL,Apple Inc.,155.81,-2.15,-1.36%,76310000,73365000,2504000000000,25.75\n",
      "NVDA,NVIDIA Corporation,136.47,-2.90,-2.08%,74203000,52884000,340083000000,36.60\n",
      "F,Ford Motor Company,15.16,-0.03,-0.20%,64117999,60936000,60947000000,5.26\n",
      "AMZN,Amazon.com Inc.,127.51,-0.31,-0.24%,57430000,64506000,1299000000000,113.85\n",
      "TSLA,Tesla Inc.,270.21,-6.95,-2.51%,49863000,83703000,846695000000,96.85\n",
      "SNAP,Snap Inc.,11.22,-0.42,-3.61%,45190000,54759000,18501000000,N/A\n",
      "NIO,NIO Inc.,17.73,-1.06,-5.64%,43582000,50948000,29659000000,N/A\n",
      "BAC,Bank of America Corporation,33.43,-0.04,-0.12%,43849000,41441000,268618000000,10.45\n",
      "CCL,Carnival Corporation & plc,9.37,+0.02,+0.21%,39251000,55062000,12018000000,N/A\n",
      "ITUB,Itaú Unibanco Holding S.A.,5.07,+0.10,+2.01%,38543000,43607000,45768000000,9.75\n",
      "INTC,Intel Corporation,31.22,-0.54,-1.70%,34893000,38974000,128189000000,6.70\n",
      "NOK,Nokia Oyj,4.93,-0.0500,-1.00%,34357000,28586000,27806000000,17.00\n",
      "T,AT&T Inc.,17.19,-0.31,-1.77%,35769000,36963000,122496000000,7.61\n",
      "VALE,Vale S.A.,12.17,+0.02,+0.16%,33614000,32650000,58646000000,3.03\n",
      "SHOP,Shopify Inc.,30.11,-1.16,-3.71%,31342000,33223000,38191000000,231.62\n",
      "SOFI,SoFi Technologies Inc.,5.74,-0.11,-1.88%,29740000,39802000,4590000000,N/A\n",
      "AUR,Aurora Innovation Inc.,2.43,+0.3200,+15.17%,27693000,3867000,2804000000,N/A\n",
      "SWN,Southwestern Energy Company,7.38,+0.15,+2.07%,29031000,42048000,8224000000,N/A\n",
      "NU,Nu Holdings Ltd.,4.94,+0.0400,+0.82%,27410000,26058000,23101000000,N/A\n",
      "AMC,AMC Entertainment Holdings Inc.,8.88,+0.30,+3.50%,27357000,45887000,4558000000,N/A\n",
      "DNA,Ginkgo Bioworks Holdings Inc.,2.51,-0.2300,-8.39%,26437000,26112000,4474000000,N/A\n",
      "PBR,Petróleo Brasileiro S.A. - Petrobras,14.44,0.00,0.00%,26298000,31455000,90301000000,3.03\n",
      "AAL,American Airlines Group Inc.,12.99,+0.06,+0.46%,26865000,32909000,8441000000,N/A\n",
      "PLTR,Palantir Technologies Inc.,7.4,-0.09,-1.20%,25713000,38025000,15275000000,N/A\n",
      "BBD,Banco Bradesco S.A.,3.68,+0.0437,+1.20%,24210000,30886000,35928000000,8.18\n",
      "GOOGL,Alphabet Inc.,107.85,-1.89,-1.72%,24078000,32188000,1412000000000,19.79\n",
      "OXY,Occidental Petroleum Corporation,68.77,+0.37,+0.54%,22576000,27034000,64059000000,6.76\n",
      "GRAB,Grab Holdings Limited,2.96,+0.0900,+3.14%,22493000,25986000,11365000000,N/A\n",
      "MSFT,Microsoft Corporation,256.06,-4.34,-1.67%,22485000,25113000,1910000000000,26.53\n",
      "NLY,Annaly Capital Management Inc.,6.38,0.00,0.00%,23422000,28919000,11001000000,2.55\n",
      "ABEV,Ambev S.A.,2.93,+0.0500,+1.74%,21147000,33107999,47717000000,17.24\n",
      "VZ,Verizon Communications Inc.,41.3,-0.51,-1.22%,21064000,19739000,173448000000,8.29\n",
      "OKTA,Okta Inc.,64.63,+4.03,+6.65%,21050000,3383000,10268000000,N/A\n",
      "GOOG,Alphabet Inc.,108.68,-1.87,-1.69%,20618000,26334000,1412000000000,20.13\n",
      "META,Meta Platforms Inc.,160.32,-5.04,-3.05%,22596000,28396000,430868000000,12.63\n",
      "CMCSA,Comcast Corporation,35.76,-1.14,-3.09%,20091000,22770000,157817000000,11.65\n",
      "PCG,PG&E Corporation,12.55,+0.02,+0.16%,21180000,13481000,30941000000,125.50\n",
      "NCLH,Norwegian Cruise Line Holdings Ltd.,13.05,+0.04,+0.31%,20374000,20937000,5499000000,N/A\n",
      "WBD,Warner Bros. Discovery Inc.,13.06,-0.13,-0.99%,20627000,24274000,31704000000,7.22\n",
      "PLUG,Plug Power Inc.,25.87,-1.07,-3.97%,18503000,22362000,14986000000,N/A\n",
      "GOLD,Barrick Gold Corporation,14.9,+0.31,+2.12%,18825000,21534000,26372000000,13.19\n",
      "XOM,Exxon Mobil Corporation,95.59,+1.72,+1.83%,17980000,23513000,398385000000,10.46\n",
      "OPEN,Opendoor Technologies Inc.,4.1,-0.1800,-4.21%,18193000,17732000,2578000000,N/A\n",
      "CDEV,Permian Resources Corporation,7.62,-0.61,-7.41%,17582000,9120000,2172000000,5.52\n",
      "CS,Credit Suisse Group AG,5.12,+0.12,+2.40%,16959000,14982000,13274000000,N/A\n",
      "SIRI,Sirius XM Holdings Inc.,6.07,-0.06,-0.98%,16925000,15706000,23638000000,19.58\n",
      "PDD,Pinduoduo Inc.,72.19,+0.77,+1.08%,16754999,13462000,91276000000,46.57\n",
      "PTON,Peloton Interactive Inc.,9.44,-0.84,-8.17%,16157000,14773000,3193000000,N/A\n",
      "HPE,Hewlett Packard Enterprise Company,13.24,-0.13,-0.97%,15882000,10214000,17203000000,4.75\n",
      "ET,Energy Transfer LP,11.75,+0.02,+0.17%,16215000,20212000,36272000000,9.40\n",
      "DKNG,DraftKings Inc.,15.49,-0.47,-2.94%,16334000,19697000,6948000000,N/A\n",
      "KGC,Kinross Gold Corporation,3.28,+0.1700,+5.47%,16370000,20951000,4271000000,21.87\n",
      "RIG,Transocean Ltd.,3.56,+0.1600,+4.71%,15532000,19200000,2512000000,N/A\n",
      "C,Citigroup Inc.,48.84,+0.09,+0.18%,15208000,19300000,94415000000,6.11\n",
      "BTG,B2Gold Corp.,3.12,+0.1900,+6.48%,15000000,12216000,3326000000,8.67\n",
      "CSCO,Cisco Systems Inc.,44.59,-0.70,-1.55%,14721000,20018000,184645000000,15.81\n",
      "PFE,Pfizer Inc.,45.7,-0.93,-1.99%,14258000,18706000,256483999999,8.89\n",
      "UBER,Uber Technologies Inc.,29.05,+0.13,+0.45%,14397000,29137000,57517000000,N/A\n",
      "GGB,Gerdau S.A.,4.64,+0.1700,+3.80%,13936000,17136000,7188000000,2.52\n",
      "KMI,Kinder Morgan Inc.,18.22,+0.05,+0.28%,14896000,15066000,41242000000,17.19\n",
      "HBAN,Huntington Bancshares Incorporated,13.32,-0.05,-0.37%,13879000,11863000,19210000000,11.68\n",
      "X,United States Steel Corporation,21.71,+0.23,+1.07%,13661000,12019000,5150000000,1.25\n",
      "FCX,Freeport-McMoRan Inc.,28.3,+0.21,+0.75%,13365000,20054000,40448000000,8.58\n",
      "LCID,Lucid Group Inc.,15.16,-0.22,-1.43%,13695000,16870000,25436000000,N/A\n",
      "JBLU,JetBlue Airways Corporation,7.63,-0.07,-0.91%,13539000,10718000,2471000000,N/A\n",
      "TELL,Tellurian Inc.,4.08,+0.2300,+5.97%,13716000,16886000,2305000000,N/A\n",
      "AUY,Yamana Gold Inc.,4.45,+0.1900,+4.46%,13247000,17296000,4285000000,15.89\n",
      "WFC,Wells Fargo & Company,43.38,-0.32,-0.73%,12973000,18545000,164543000000,10.40\n",
      "MU,Micron Technology Inc.,56.33,-0.98,-1.71%,12810000,16835000,62140000000,6.42\n",
      "MRO,Marathon Oil Corporation,25.71,+0.79,+3.17%,12283000,17143000,17421000000,6.09\n",
      "CHPT,ChargePoint Holdings Inc.,14.5,-0.81,-5.29%,12347000,10007000,4916000000,N/A\n",
      "XPEV,XPeng Inc.,16.74,-0.59,-3.40%,12311000,11246000,16152000000,N/A\n",
      "SQ,Block Inc.,66.33,-2.42,-3.52%,11911000,15231000,39148000000,N/A\n",
      "HPQ,HP Inc.,27.64,-0.53,-1.88%,12269000,8880000,28584000000,4.93\n",
      "MMM,3M Company,121.65,-3.98,-3.17%,10851000,7510000,69292000000,16.99\n",
      "RBLX,Roblox Corporation,37.94,-0.57,-1.48%,12073000,25868000,22641000000,N/A\n",
      "CPG,Crescent Point Energy Corp.,7.45,+0.19,+2.62%,12079000,14056000,4227999999,3.39\n",
      "PBR-A,Petróleo Brasileiro S.A. - Petrobras,12.89,0.00,0.00%,12314000,14634000,90301000000,2.71\n",
      "M,Macy's Inc.,17.1,+0.04,+0.23%,12490000,12369000,4634000000,3.35\n",
      "BP,BP p.l.c.,31.13,+0.54,+1.77%,11971000,11740000,98608000000,N/A\n",
      "BABA,Alibaba Group Holding Limited,91.8,-1.91,-2.04%,12154000,26946000,243751000000,42.70\n",
      "KO,The Coca-Cola Company,61.15,-0.85,-1.37%,11733000,13259000,264451000000,27.80\n",
      "SLB,Schlumberger Limited,38.07,+1.22,+3.31%,11169000,13074000,53846000000,20.80\n",
      "KSS,Kohl's Corporation,29.97,+1.60,+5.64%,11293000,5403000,3850000000,6.01\n",
      "AZN,AstraZeneca PLC,60.69,-1.10,-1.78%,11242000,6517000,190048000000,N/A\n",
      "ORCL,Oracle Corporation,74.68,-0.62,-0.82%,10874000,7336000,199017000000,30.99\n",
      "ING,ING Groep N.V.,8.6,-0.02,-0.23%,10915000,5099000,32234000000,8.35\n",
      "CSX,CSX Corporation,31.24,-0.37,-1.17%,10934000,14731000,66891999999,17.45\n",
      "CLF,Cleveland-Cliffs Inc.,16.81,+0.20,+1.20%,10782000,15719000,8696000000,2.47\n",
      "GM,General Motors Company,38.47,-0.09,-0.23%,10770000,14632000,56091000000,7.33\n",
      "ELAN,Elanco Animal Health Incorporated,15.37,-0.01,-0.07%,10797000,5320000,7287000000,N/A\n",
      "GSAT,Globalstar Inc.,2.04,+0.0400,+2.00%,10745000,5429000,3674000000,N/A\n",
      "LYG,Lloyds Banking Group plc,1.96,+0.0100,+0.51%,10483000,11066000,33772000000,7.00\n",
      "STLA,Stellantis N.V.,13.09,-0.18,-1.36%,10421000,5182000,41154000000,2.71\n",
      "NEM,Newmont Corporation,41.67,+0.76,+1.86%,9694000,8822000,33073000000,44.33\n",
      "SBUX,Starbucks Corporation,82.94,-2.46,-2.88%,10337000,6652000,97988000000,23.36\n",
      "AFRM,Affirm Holdings Inc.,22.45,-0.71,-3.07%,10258000,14791000,6430000000,N/A\n",
      "PARA,Paramount Global,23.12,-0.34,-1.45%,10100000,8873000,15123000000,4.75\n",
      "DVN,Devon Energy Corporation,70.34,+2.18,+3.20%,9940000,12577000,46059000000,8.92\n",
      "\n"
     ]
    }
   ],
   "source": [
    "with open('most-active-stocks.csv', 'r') as f:\n",
    "    print(f.read())"
   ]
  },
  {
   "cell_type": "code",
   "execution_count": 175,
   "metadata": {},
   "outputs": [
    {
     "name": "stdout",
     "output_type": "stream",
     "text": [
      "Stock ticker,Stock name,Last price of stock,Stock change,Stock percentage change,Volume,Average volume over 3 months,Market cap,PE ratio\n",
      "JWN,Nordstrom Inc.,17.68,+0.19,+1.09%,9969000,6142000,2825000000,6.96\n",
      "PINS,Pinterest Inc.,22.07,-0.67,-2.95%,9961000,15717000,14863000000,73.57\n",
      "MS,Morgan Stanley,86.4,+0.23,+0.27%,9771000,7691000,148334000000,11.68\n",
      "FTCH,Farfetch Limited,9.37,-0.50,-5.07%,9881000,11330000,3573000000,N/A\n",
      "SAN,Banco Santander S.A.,2.35,-0.0300,-1.26%,9878000,6909000,39628000000,4.70\n",
      "BCS,Barclays PLC,7.72,+0.11,+1.45%,9448000,6475000,30071000000,5.59\n",
      "VTRS,Viatris Inc.,9.45,-0.12,-1.25%,10152000,11115000,11459000000,15.00\n",
      "MRVL,Marvell Technology Inc.,45.76,-0.21,-0.46%,10251000,9844000,38891000000,N/A\n",
      "JPM,JPMorgan Chase & Co.,113.71,-0.80,-0.70%,10599000,12050000,333463000000,9.12\n",
      "UAL,United Airlines Holdings Inc.,35.31,+0.13,+0.37%,9415000,10368000,11537000000,N/A\n",
      "LI,Li Auto Inc.,26.58,-1.32,-4.73%,9115000,11870000,26308000000,2,658.00\n",
      "HAL,Halliburton Company,30.01,+1.07,+3.70%,8927000,10817000,27217000000,18.87\n",
      "LUMN,Lumen Technologies Inc.,9.85,-0.22,-2.18%,8780000,9878000,10198000000,5.08\n",
      "ASX,ASE Technology Holding Co. Ltd.,5.51,-0.09,-1.61%,8919000,5923000,11801000000,6.05\n",
      "RIVN,Rivian Automotive Inc.,32.07,+0.12,+0.38%,8870000,15348000,28331000000,N/A\n",
      "TSM,Taiwan Semiconductor Manufacturing Company Limited,80.9,-0.74,-0.91%,8789000,11184000,415100000000,16.85\n",
      "NKLA,Nikola Corporation,5.27,-0.05,-0.94%,8704000,10394000,2284000000,N/A\n",
      "PYPL,PayPal Holdings Inc.,91.13,-1.53,-1.65%,8674000,14299000,105390000000,52.68\n",
      "BMY,Bristol-Myers Squibb Company,68.61,-0.48,-0.69%,8635000,10345000,146500000000,22.79\n",
      "DAL,Delta Air Lines Inc.,30.94,-0.15,-0.48%,8466000,12501000,19839000000,32.91\n",
      "LULU,Lululemon Athletica Inc.,314.17,+19.72,+6.70%,8762000,1207000,40102000000,40.70\n",
      "MO,Altria Group Inc.,45.0,-0.37,-0.82%,7869000,10542000,81037000000,45.92\n",
      "DIS,The Walt Disney Company,111.2,-1.33,-1.18%,8302000,11439000,202724000000,63.54\n",
      "TME,Tencent Music Entertainment Group,5.06,-0.08,-1.56%,8130000,12172000,8577000000,21.08\n",
      "BHC,Bausch Health Companies Inc.,6.45,-0.14,-2.12%,8172000,7808000,2336000000,43.00\n",
      "GSK,GSK plc,31.85,+0.16,+0.50%,8118000,6610000,65732000000,12.02\n",
      "NFLX,Netflix Inc.,226.11,-3.93,-1.71%,8131000,9604000,100552000000,19.28\n",
      "AMCR,Amcor plc,12.02,+0.02,+0.17%,7812000,9393000,17898000000,22.68\n",
      "IS,ironSource Ltd.,3.84,-0.1600,-4.00%,7937000,17099000,3929000000,64.00\n",
      "TWTR,Twitter Inc.,38.63,+0.01,+0.03%,7664000,14277000,29561000000,154.52\n",
      "ROKU,Roku Inc.,65.99,-2.31,-3.38%,8064999,10039000,9102000000,55.92\n",
      "TEVA,Teva Pharmaceutical Industries Limited,8.84,-0.09,-1.01%,7772000,14298000,9987000000,N/A\n",
      "GFI,Gold Fields Limited,8.17,+0.39,+5.01%,7241000,7952000,7643000000,8.09\n",
      "LYFT,Lyft Inc.,14.6,-0.07,-0.48%,7790000,12998000,5150000000,N/A\n",
      "NKE,NIKE Inc.,105.74,-0.44,-0.42%,7695000,6876000,165860000000,28.20\n",
      "HST,Host Hotels & Resorts Inc.,17.26,-0.11,-0.63%,7678000,7954000,12519000000,21.58\n",
      "AES,The AES Corporation,26.15,+0.30,+1.16%,7311000,5378000,17466000000,N/A\n",
      "APA,APA Corporation,38.8,+0.88,+2.32%,7531000,8132000,12669000000,4.37\n",
      "CVX,Chevron Corporation,157.85,+2.31,+1.49%,7425000,9568000,308980000000,10.53\n",
      "CRM,Salesforce Inc.,153.69,+0.16,+0.10%,7277000,6301000,153690000000,301.35\n",
      "HBI,Hanesbrands Inc.,8.61,-0.05,-0.58%,7256000,6051000,3004000000,6.73\n",
      "HOOD,Robinhood Markets Inc.,9.45,-0.18,-1.87%,7305000,15311000,7897000000,N/A\n",
      "WBA,Walgreens Boots Alliance Inc.,35.27,+0.01,+0.03%,7260000,6522000,30482000000,5.98\n",
      "MPW,Medical Properties Trust Inc.,14.32,-0.21,-1.45%,7102000,7403000,8577999999,7.16\n",
      "PSTG,Pure Storage Inc.,29.16,+0.93,+3.29%,7129000,3158000,8632000000,N/A\n",
      "UMC,United Microelectronics Corporation,6.5,-0.05,-0.76%,7046000,8703000,16451000000,6.91\n",
      "DB,Deutsche Bank Aktiengesellschaft,8.27,+0.07,+0.85%,7037000,4657000,16734000000,7.19\n",
      "EQNR,Equinor ASA,38.89,+1.19,+3.16%,7019000,3125000,124652000000,7.73\n",
      "MRK,Merck & Co. Inc.,86.23,-0.92,-1.06%,6910000,9722000,218445000000,13.16\n",
      "BEKE,KE Holdings Inc.,16.42,-0.93,-5.36%,6876000,12701000,20964000000,N/A\n",
      "PG,The Procter & Gamble Company,137.16,-2.48,-1.78%,6778000,6883000,327195000000,23.61\n",
      "GPS,The Gap Inc.,9.27,+0.03,+0.32%,6676000,8620000,3371000000,N/A\n",
      "GLW,Corning Incorporated,33.15,-0.72,-2.13%,6672000,4555000,28022000000,14.17\n",
      "PAYO,Payoneer Global Inc.,6.72,+0.04,+0.60%,6678000,3889000,2328000000,12.00\n",
      "DXC,DXC Technology Company,27.48,+0.78,+2.92%,5601000,1780000,6317000000,12.61\n",
      "COTY,Coty Inc.,7.53,+0.06,+0.80%,6378000,6870000,6318000000,107.57\n",
      "TAL,TAL Education Group,5.5,-0.26,-4.51%,6421000,8266000,3569000000,N/A\n",
      "HLN,Haleon plc,5.63,-0.17,-2.93%,6426000,10731000,25995000000,16.09\n",
      "FTNT,Fortinet Inc.,48.6,+0.05,+0.10%,6405000,5334000,38322000000,60.00\n",
      "COIN,Coinbase Global Inc.,65.26,-0.27,-0.41%,6393000,14472000,17091999999,6.67\n",
      "CCJ,Cameco Corporation,28.82,+0.27,+0.95%,6627000,6144000,11494000000,262.00\n",
      "RF,Regions Financial Corporation,21.28,-0.10,-0.47%,6109000,6933000,19884000000,9.54\n",
      "PATH,UiPath Inc.,16.1,-0.06,-0.37%,6313000,5629000,8770000000,N/A\n",
      "WMB,The Williams Companies Inc.,33.72,+0.14,+0.42%,6075000,7886000,41089000000,26.34\n",
      "BTU,Peabody Energy Corporation,24.73,+1.40,+6.00%,6173000,5754000,3559000000,4.37\n",
      "SMAR,Smartsheet Inc.,34.16,+3.34,+10.84%,6162000,1942000,4422000000,N/A\n",
      "SCHW,The Charles Schwab Corporation,70.34,-1.38,-1.92%,5968000,7765000,133441000000,23.06\n",
      "CHWY,Chewy Inc.,32.75,-1.12,-3.31%,6121000,5158000,13775000000,N/A\n",
      "QCOM,QUALCOMM Incorporated,128.48,-1.44,-1.11%,6121000,8236000,144283000000,11.39\n",
      "COP,ConocoPhillips,110.26,+2.73,+2.54%,5917000,7712000,140364000000,9.10\n",
      "KEY,KeyCorp,17.55,-0.13,-0.74%,6624000,9491000,16367999999,7.70\n",
      "USB,U.S. Bancorp,45.55,-0.32,-0.70%,5474000,6349000,67677000000,10.50\n",
      "CVNA,Carvana Co.,31.58,-1.20,-3.66%,5914000,11109000,5609000000,N/A\n",
      "BSX,Boston Scientific Corporation,40.49,-0.50,-1.22%,4421000,7439000,57966000000,71.04\n",
      "ON,ON Semiconductor Corporation,67.51,-0.71,-1.04%,6662000,9778000,29248000000,17.67\n",
      "QS,QuantumScape Corporation,10.01,-0.50,-4.76%,5442000,6448000,4331000000,N/A\n",
      "WMT,Walmart Inc.,133.0,-1.48,-1.10%,5619000,8350000,364573000000,26.60\n",
      "UAA,Under Armour Inc.,8.28,-0.04,-0.48%,5660000,7763000,3558000000,17.25\n",
      "NEE,NextEra Energy Inc.,85.11,-1.15,-1.33%,5714000,7771000,167222000000,65.47\n",
      "COMM,CommScope Holding Company Inc.,12.69,+0.68,+5.66%,5690000,3726000,2642000000,N/A\n",
      "SNOW,Snowflake Inc.,171.49,-1.66,-0.96%,5604000,7209000,54551000000,N/A\n",
      "CTRA,Coterra Energy Inc.,30.11,-0.12,-0.40%,5490000,9571000,23955000000,7.22\n",
      "SHEL,Shell plc,53.23,+0.83,+1.58%,5583000,5164000,197139000000,5.64\n",
      "EXC,Exelon Corporation,44.08,-0.37,-0.83%,6747000,6181000,43792000000,24.09\n",
      "AMAT,Applied Materials Inc.,91.24,-0.57,-0.62%,6794000,7325000,78495000000,12.21\n",
      "STNE,StoneCo Ltd.,8.9,-0.29,-3.16%,5559000,8064999,2779000000,N/A\n",
      "AR,Antero Resources Corporation,39.52,+0.65,+1.67%,5449000,7951000,12098000000,13.67\n",
      "IQ,iQIYI Inc.,3.53,-0.1800,-4.85%,5538000,10824000,3040000000,N/A\n",
      "CVS,CVS Health Corporation,99.44,-0.49,-0.49%,5308000,4750000,130548000000,16.20\n",
      "PPL,PPL Corporation,28.94,-0.34,-1.16%,5332000,5316000,21305000000,29.23\n",
      "U,Unity Software Inc.,40.79,-0.48,-1.16%,5353000,9605000,12162000000,N/A\n",
      "KOS,Kosmos Energy Ltd.,6.8,+0.20,+3.03%,5730000,7520000,3100000000,17.44\n",
      "RYCEY,Rolls-Royce Holdings plc,0.891,+0.0225,+2.59%,5353000,4322000,7456000000,44.55\n",
      "HL,Hecla Mining Company,3.9,+0.1500,+4.00%,5296000,6587000,2112000000,130.00\n",
      "EQT,EQT Corporation,47.28,+0.97,+2.09%,5159000,7080000,17492000000,N/A\n",
      "BA,The Boeing Company,151.82,-1.84,-1.20%,5082000,8689000,90152000000,N/A\n",
      "INFY,Infosys Limited,18.09,-0.33,-1.79%,5206000,8319000,75812000000,26.22\n",
      "BKR,Baker Hughes Company,25.28,+0.68,+2.76%,5967000,9671000,25754000000,63.20\n",
      "PSLV,Sprott Physical Silver Trust,6.31,+0.06,+0.96%,5199000,3419000,2858000000,63.10\n",
      "TDOC,Teladoc Health Inc.,30.18,-0.62,-2.01%,5174000,5307000,4879000000,N/A\n",
      "\n"
     ]
    }
   ],
   "source": [
    "with open('most-active-stocks-next-page.csv', 'r') as f:\n",
    "    print(f.read())"
   ]
  },
  {
   "cell_type": "markdown",
   "metadata": {},
   "source": [
    "### 6. Display the CSV files in Pandas data frames"
   ]
  },
  {
   "cell_type": "code",
   "execution_count": 176,
   "metadata": {},
   "outputs": [],
   "source": [
    "import pandas as pd"
   ]
  },
  {
   "cell_type": "code",
   "execution_count": 177,
   "metadata": {
    "scrolled": true
   },
   "outputs": [
    {
     "data": {
      "text/html": [
       "<div>\n",
       "<style scoped>\n",
       "    .dataframe tbody tr th:only-of-type {\n",
       "        vertical-align: middle;\n",
       "    }\n",
       "\n",
       "    .dataframe tbody tr th {\n",
       "        vertical-align: top;\n",
       "    }\n",
       "\n",
       "    .dataframe thead th {\n",
       "        text-align: right;\n",
       "    }\n",
       "</style>\n",
       "<table border=\"1\" class=\"dataframe\">\n",
       "  <thead>\n",
       "    <tr style=\"text-align: right;\">\n",
       "      <th></th>\n",
       "      <th>Stock ticker</th>\n",
       "      <th>Stock name</th>\n",
       "      <th>Last price of stock</th>\n",
       "      <th>Stock change</th>\n",
       "      <th>Stock percentage change</th>\n",
       "      <th>Volume</th>\n",
       "      <th>Average volume over 3 months</th>\n",
       "      <th>Market cap</th>\n",
       "      <th>PE ratio</th>\n",
       "    </tr>\n",
       "  </thead>\n",
       "  <tbody>\n",
       "    <tr>\n",
       "      <th>0</th>\n",
       "      <td>AMD</td>\n",
       "      <td>Advanced Micro Devices Inc.</td>\n",
       "      <td>80.24</td>\n",
       "      <td>-2.09</td>\n",
       "      <td>-2.54%</td>\n",
       "      <td>84924000</td>\n",
       "      <td>84344000</td>\n",
       "      <td>129532999999</td>\n",
       "      <td>35.19</td>\n",
       "    </tr>\n",
       "    <tr>\n",
       "      <th>1</th>\n",
       "      <td>AAPL</td>\n",
       "      <td>Apple Inc.</td>\n",
       "      <td>155.81</td>\n",
       "      <td>-2.15</td>\n",
       "      <td>-1.36%</td>\n",
       "      <td>76310000</td>\n",
       "      <td>73365000</td>\n",
       "      <td>2504000000000</td>\n",
       "      <td>25.75</td>\n",
       "    </tr>\n",
       "    <tr>\n",
       "      <th>2</th>\n",
       "      <td>NVDA</td>\n",
       "      <td>NVIDIA Corporation</td>\n",
       "      <td>136.47</td>\n",
       "      <td>-2.90</td>\n",
       "      <td>-2.08%</td>\n",
       "      <td>74203000</td>\n",
       "      <td>52884000</td>\n",
       "      <td>340083000000</td>\n",
       "      <td>36.60</td>\n",
       "    </tr>\n",
       "    <tr>\n",
       "      <th>3</th>\n",
       "      <td>F</td>\n",
       "      <td>Ford Motor Company</td>\n",
       "      <td>15.16</td>\n",
       "      <td>-0.03</td>\n",
       "      <td>-0.20%</td>\n",
       "      <td>64117999</td>\n",
       "      <td>60936000</td>\n",
       "      <td>60947000000</td>\n",
       "      <td>5.26</td>\n",
       "    </tr>\n",
       "    <tr>\n",
       "      <th>4</th>\n",
       "      <td>AMZN</td>\n",
       "      <td>Amazon.com Inc.</td>\n",
       "      <td>127.51</td>\n",
       "      <td>-0.31</td>\n",
       "      <td>-0.24%</td>\n",
       "      <td>57430000</td>\n",
       "      <td>64506000</td>\n",
       "      <td>1299000000000</td>\n",
       "      <td>113.85</td>\n",
       "    </tr>\n",
       "    <tr>\n",
       "      <th>...</th>\n",
       "      <td>...</td>\n",
       "      <td>...</td>\n",
       "      <td>...</td>\n",
       "      <td>...</td>\n",
       "      <td>...</td>\n",
       "      <td>...</td>\n",
       "      <td>...</td>\n",
       "      <td>...</td>\n",
       "      <td>...</td>\n",
       "    </tr>\n",
       "    <tr>\n",
       "      <th>95</th>\n",
       "      <td>NEM</td>\n",
       "      <td>Newmont Corporation</td>\n",
       "      <td>41.67</td>\n",
       "      <td>0.76</td>\n",
       "      <td>+1.86%</td>\n",
       "      <td>9694000</td>\n",
       "      <td>8822000</td>\n",
       "      <td>33073000000</td>\n",
       "      <td>44.33</td>\n",
       "    </tr>\n",
       "    <tr>\n",
       "      <th>96</th>\n",
       "      <td>SBUX</td>\n",
       "      <td>Starbucks Corporation</td>\n",
       "      <td>82.94</td>\n",
       "      <td>-2.46</td>\n",
       "      <td>-2.88%</td>\n",
       "      <td>10337000</td>\n",
       "      <td>6652000</td>\n",
       "      <td>97988000000</td>\n",
       "      <td>23.36</td>\n",
       "    </tr>\n",
       "    <tr>\n",
       "      <th>97</th>\n",
       "      <td>AFRM</td>\n",
       "      <td>Affirm Holdings Inc.</td>\n",
       "      <td>22.45</td>\n",
       "      <td>-0.71</td>\n",
       "      <td>-3.07%</td>\n",
       "      <td>10258000</td>\n",
       "      <td>14791000</td>\n",
       "      <td>6430000000</td>\n",
       "      <td>NaN</td>\n",
       "    </tr>\n",
       "    <tr>\n",
       "      <th>98</th>\n",
       "      <td>PARA</td>\n",
       "      <td>Paramount Global</td>\n",
       "      <td>23.12</td>\n",
       "      <td>-0.34</td>\n",
       "      <td>-1.45%</td>\n",
       "      <td>10100000</td>\n",
       "      <td>8873000</td>\n",
       "      <td>15123000000</td>\n",
       "      <td>4.75</td>\n",
       "    </tr>\n",
       "    <tr>\n",
       "      <th>99</th>\n",
       "      <td>DVN</td>\n",
       "      <td>Devon Energy Corporation</td>\n",
       "      <td>70.34</td>\n",
       "      <td>2.18</td>\n",
       "      <td>+3.20%</td>\n",
       "      <td>9940000</td>\n",
       "      <td>12577000</td>\n",
       "      <td>46059000000</td>\n",
       "      <td>8.92</td>\n",
       "    </tr>\n",
       "  </tbody>\n",
       "</table>\n",
       "<p>100 rows × 9 columns</p>\n",
       "</div>"
      ],
      "text/plain": [
       "   Stock ticker                   Stock name  Last price of stock  \\\n",
       "0           AMD  Advanced Micro Devices Inc.                80.24   \n",
       "1          AAPL                   Apple Inc.               155.81   \n",
       "2          NVDA           NVIDIA Corporation               136.47   \n",
       "3             F           Ford Motor Company                15.16   \n",
       "4          AMZN              Amazon.com Inc.               127.51   \n",
       "..          ...                          ...                  ...   \n",
       "95          NEM          Newmont Corporation                41.67   \n",
       "96         SBUX        Starbucks Corporation                82.94   \n",
       "97         AFRM         Affirm Holdings Inc.                22.45   \n",
       "98         PARA             Paramount Global                23.12   \n",
       "99          DVN     Devon Energy Corporation                70.34   \n",
       "\n",
       "    Stock change Stock percentage change    Volume  \\\n",
       "0          -2.09                  -2.54%  84924000   \n",
       "1          -2.15                  -1.36%  76310000   \n",
       "2          -2.90                  -2.08%  74203000   \n",
       "3          -0.03                  -0.20%  64117999   \n",
       "4          -0.31                  -0.24%  57430000   \n",
       "..           ...                     ...       ...   \n",
       "95          0.76                  +1.86%   9694000   \n",
       "96         -2.46                  -2.88%  10337000   \n",
       "97         -0.71                  -3.07%  10258000   \n",
       "98         -0.34                  -1.45%  10100000   \n",
       "99          2.18                  +3.20%   9940000   \n",
       "\n",
       "    Average volume over 3 months     Market cap  PE ratio  \n",
       "0                       84344000   129532999999     35.19  \n",
       "1                       73365000  2504000000000     25.75  \n",
       "2                       52884000   340083000000     36.60  \n",
       "3                       60936000    60947000000      5.26  \n",
       "4                       64506000  1299000000000    113.85  \n",
       "..                           ...            ...       ...  \n",
       "95                       8822000    33073000000     44.33  \n",
       "96                       6652000    97988000000     23.36  \n",
       "97                      14791000     6430000000       NaN  \n",
       "98                       8873000    15123000000      4.75  \n",
       "99                      12577000    46059000000      8.92  \n",
       "\n",
       "[100 rows x 9 columns]"
      ]
     },
     "execution_count": 177,
     "metadata": {},
     "output_type": "execute_result"
    }
   ],
   "source": [
    "most_active_df = pd.read_csv('most-active-stocks.csv')\n",
    "most_active_df"
   ]
  },
  {
   "cell_type": "markdown",
   "metadata": {},
   "source": [
    "We'll now look at a few different data frames that are sorted by different values."
   ]
  },
  {
   "cell_type": "code",
   "execution_count": 178,
   "metadata": {},
   "outputs": [
    {
     "data": {
      "text/html": [
       "<div>\n",
       "<style scoped>\n",
       "    .dataframe tbody tr th:only-of-type {\n",
       "        vertical-align: middle;\n",
       "    }\n",
       "\n",
       "    .dataframe tbody tr th {\n",
       "        vertical-align: top;\n",
       "    }\n",
       "\n",
       "    .dataframe thead th {\n",
       "        text-align: right;\n",
       "    }\n",
       "</style>\n",
       "<table border=\"1\" class=\"dataframe\">\n",
       "  <thead>\n",
       "    <tr style=\"text-align: right;\">\n",
       "      <th></th>\n",
       "      <th>Stock ticker</th>\n",
       "      <th>Stock name</th>\n",
       "      <th>Last price of stock</th>\n",
       "      <th>Stock change</th>\n",
       "      <th>Stock percentage change</th>\n",
       "      <th>Volume</th>\n",
       "      <th>Average volume over 3 months</th>\n",
       "      <th>Market cap</th>\n",
       "      <th>PE ratio</th>\n",
       "    </tr>\n",
       "  </thead>\n",
       "  <tbody>\n",
       "    <tr>\n",
       "      <th>1</th>\n",
       "      <td>AAPL</td>\n",
       "      <td>Apple Inc.</td>\n",
       "      <td>155.81</td>\n",
       "      <td>-2.15</td>\n",
       "      <td>-1.36%</td>\n",
       "      <td>76310000</td>\n",
       "      <td>73365000</td>\n",
       "      <td>2504000000000</td>\n",
       "      <td>25.75</td>\n",
       "    </tr>\n",
       "    <tr>\n",
       "      <th>29</th>\n",
       "      <td>MSFT</td>\n",
       "      <td>Microsoft Corporation</td>\n",
       "      <td>256.06</td>\n",
       "      <td>-4.34</td>\n",
       "      <td>-1.67%</td>\n",
       "      <td>22485000</td>\n",
       "      <td>25113000</td>\n",
       "      <td>1910000000000</td>\n",
       "      <td>26.53</td>\n",
       "    </tr>\n",
       "    <tr>\n",
       "      <th>26</th>\n",
       "      <td>GOOGL</td>\n",
       "      <td>Alphabet Inc.</td>\n",
       "      <td>107.85</td>\n",
       "      <td>-1.89</td>\n",
       "      <td>-1.72%</td>\n",
       "      <td>24078000</td>\n",
       "      <td>32188000</td>\n",
       "      <td>1412000000000</td>\n",
       "      <td>19.79</td>\n",
       "    </tr>\n",
       "    <tr>\n",
       "      <th>34</th>\n",
       "      <td>GOOG</td>\n",
       "      <td>Alphabet Inc.</td>\n",
       "      <td>108.68</td>\n",
       "      <td>-1.87</td>\n",
       "      <td>-1.69%</td>\n",
       "      <td>20618000</td>\n",
       "      <td>26334000</td>\n",
       "      <td>1412000000000</td>\n",
       "      <td>20.13</td>\n",
       "    </tr>\n",
       "    <tr>\n",
       "      <th>4</th>\n",
       "      <td>AMZN</td>\n",
       "      <td>Amazon.com Inc.</td>\n",
       "      <td>127.51</td>\n",
       "      <td>-0.31</td>\n",
       "      <td>-0.24%</td>\n",
       "      <td>57430000</td>\n",
       "      <td>64506000</td>\n",
       "      <td>1299000000000</td>\n",
       "      <td>113.85</td>\n",
       "    </tr>\n",
       "    <tr>\n",
       "      <th>...</th>\n",
       "      <td>...</td>\n",
       "      <td>...</td>\n",
       "      <td>...</td>\n",
       "      <td>...</td>\n",
       "      <td>...</td>\n",
       "      <td>...</td>\n",
       "      <td>...</td>\n",
       "      <td>...</td>\n",
       "      <td>...</td>\n",
       "    </tr>\n",
       "    <tr>\n",
       "      <th>43</th>\n",
       "      <td>OPEN</td>\n",
       "      <td>Opendoor Technologies Inc.</td>\n",
       "      <td>4.10</td>\n",
       "      <td>-0.18</td>\n",
       "      <td>-4.21%</td>\n",
       "      <td>18193000</td>\n",
       "      <td>17732000</td>\n",
       "      <td>2578000000</td>\n",
       "      <td>NaN</td>\n",
       "    </tr>\n",
       "    <tr>\n",
       "      <th>53</th>\n",
       "      <td>RIG</td>\n",
       "      <td>Transocean Ltd.</td>\n",
       "      <td>3.56</td>\n",
       "      <td>0.16</td>\n",
       "      <td>+4.71%</td>\n",
       "      <td>15532000</td>\n",
       "      <td>19200000</td>\n",
       "      <td>2512000000</td>\n",
       "      <td>NaN</td>\n",
       "    </tr>\n",
       "    <tr>\n",
       "      <th>65</th>\n",
       "      <td>JBLU</td>\n",
       "      <td>JetBlue Airways Corporation</td>\n",
       "      <td>7.63</td>\n",
       "      <td>-0.07</td>\n",
       "      <td>-0.91%</td>\n",
       "      <td>13539000</td>\n",
       "      <td>10718000</td>\n",
       "      <td>2471000000</td>\n",
       "      <td>NaN</td>\n",
       "    </tr>\n",
       "    <tr>\n",
       "      <th>66</th>\n",
       "      <td>TELL</td>\n",
       "      <td>Tellurian Inc.</td>\n",
       "      <td>4.08</td>\n",
       "      <td>0.23</td>\n",
       "      <td>+5.97%</td>\n",
       "      <td>13716000</td>\n",
       "      <td>16886000</td>\n",
       "      <td>2305000000</td>\n",
       "      <td>NaN</td>\n",
       "    </tr>\n",
       "    <tr>\n",
       "      <th>44</th>\n",
       "      <td>CDEV</td>\n",
       "      <td>Permian Resources Corporation</td>\n",
       "      <td>7.62</td>\n",
       "      <td>-0.61</td>\n",
       "      <td>-7.41%</td>\n",
       "      <td>17582000</td>\n",
       "      <td>9120000</td>\n",
       "      <td>2172000000</td>\n",
       "      <td>5.52</td>\n",
       "    </tr>\n",
       "  </tbody>\n",
       "</table>\n",
       "<p>100 rows × 9 columns</p>\n",
       "</div>"
      ],
      "text/plain": [
       "   Stock ticker                     Stock name  Last price of stock  \\\n",
       "1          AAPL                     Apple Inc.               155.81   \n",
       "29         MSFT          Microsoft Corporation               256.06   \n",
       "26        GOOGL                  Alphabet Inc.               107.85   \n",
       "34         GOOG                  Alphabet Inc.               108.68   \n",
       "4          AMZN                Amazon.com Inc.               127.51   \n",
       "..          ...                            ...                  ...   \n",
       "43         OPEN     Opendoor Technologies Inc.                 4.10   \n",
       "53          RIG                Transocean Ltd.                 3.56   \n",
       "65         JBLU    JetBlue Airways Corporation                 7.63   \n",
       "66         TELL                 Tellurian Inc.                 4.08   \n",
       "44         CDEV  Permian Resources Corporation                 7.62   \n",
       "\n",
       "    Stock change Stock percentage change    Volume  \\\n",
       "1          -2.15                  -1.36%  76310000   \n",
       "29         -4.34                  -1.67%  22485000   \n",
       "26         -1.89                  -1.72%  24078000   \n",
       "34         -1.87                  -1.69%  20618000   \n",
       "4          -0.31                  -0.24%  57430000   \n",
       "..           ...                     ...       ...   \n",
       "43         -0.18                  -4.21%  18193000   \n",
       "53          0.16                  +4.71%  15532000   \n",
       "65         -0.07                  -0.91%  13539000   \n",
       "66          0.23                  +5.97%  13716000   \n",
       "44         -0.61                  -7.41%  17582000   \n",
       "\n",
       "    Average volume over 3 months     Market cap  PE ratio  \n",
       "1                       73365000  2504000000000     25.75  \n",
       "29                      25113000  1910000000000     26.53  \n",
       "26                      32188000  1412000000000     19.79  \n",
       "34                      26334000  1412000000000     20.13  \n",
       "4                       64506000  1299000000000    113.85  \n",
       "..                           ...            ...       ...  \n",
       "43                      17732000     2578000000       NaN  \n",
       "53                      19200000     2512000000       NaN  \n",
       "65                      10718000     2471000000       NaN  \n",
       "66                      16886000     2305000000       NaN  \n",
       "44                       9120000     2172000000      5.52  \n",
       "\n",
       "[100 rows x 9 columns]"
      ]
     },
     "execution_count": 178,
     "metadata": {},
     "output_type": "execute_result"
    }
   ],
   "source": [
    "order_by_mark_cap_df = most_active_df.sort_values('Market cap', ascending=False)\n",
    "order_by_mark_cap_df"
   ]
  },
  {
   "cell_type": "code",
   "execution_count": 179,
   "metadata": {},
   "outputs": [
    {
     "data": {
      "text/html": [
       "<div>\n",
       "<style scoped>\n",
       "    .dataframe tbody tr th:only-of-type {\n",
       "        vertical-align: middle;\n",
       "    }\n",
       "\n",
       "    .dataframe tbody tr th {\n",
       "        vertical-align: top;\n",
       "    }\n",
       "\n",
       "    .dataframe thead th {\n",
       "        text-align: right;\n",
       "    }\n",
       "</style>\n",
       "<table border=\"1\" class=\"dataframe\">\n",
       "  <thead>\n",
       "    <tr style=\"text-align: right;\">\n",
       "      <th></th>\n",
       "      <th>Stock ticker</th>\n",
       "      <th>Stock name</th>\n",
       "      <th>Last price of stock</th>\n",
       "      <th>Stock change</th>\n",
       "      <th>Stock percentage change</th>\n",
       "      <th>Volume</th>\n",
       "      <th>Average volume over 3 months</th>\n",
       "      <th>Market cap</th>\n",
       "      <th>PE ratio</th>\n",
       "    </tr>\n",
       "  </thead>\n",
       "  <tbody>\n",
       "    <tr>\n",
       "      <th>15</th>\n",
       "      <td>SHOP</td>\n",
       "      <td>Shopify Inc.</td>\n",
       "      <td>30.11</td>\n",
       "      <td>-1.16</td>\n",
       "      <td>-3.71%</td>\n",
       "      <td>31342000</td>\n",
       "      <td>33223000</td>\n",
       "      <td>38191000000</td>\n",
       "      <td>231.62</td>\n",
       "    </tr>\n",
       "    <tr>\n",
       "      <th>37</th>\n",
       "      <td>PCG</td>\n",
       "      <td>PG&amp;E Corporation</td>\n",
       "      <td>12.55</td>\n",
       "      <td>0.02</td>\n",
       "      <td>+0.16%</td>\n",
       "      <td>21180000</td>\n",
       "      <td>13481000</td>\n",
       "      <td>30941000000</td>\n",
       "      <td>125.50</td>\n",
       "    </tr>\n",
       "    <tr>\n",
       "      <th>4</th>\n",
       "      <td>AMZN</td>\n",
       "      <td>Amazon.com Inc.</td>\n",
       "      <td>127.51</td>\n",
       "      <td>-0.31</td>\n",
       "      <td>-0.24%</td>\n",
       "      <td>57430000</td>\n",
       "      <td>64506000</td>\n",
       "      <td>1299000000000</td>\n",
       "      <td>113.85</td>\n",
       "    </tr>\n",
       "    <tr>\n",
       "      <th>5</th>\n",
       "      <td>TSLA</td>\n",
       "      <td>Tesla Inc.</td>\n",
       "      <td>270.21</td>\n",
       "      <td>-6.95</td>\n",
       "      <td>-2.51%</td>\n",
       "      <td>49863000</td>\n",
       "      <td>83703000</td>\n",
       "      <td>846695000000</td>\n",
       "      <td>96.85</td>\n",
       "    </tr>\n",
       "    <tr>\n",
       "      <th>47</th>\n",
       "      <td>PDD</td>\n",
       "      <td>Pinduoduo Inc.</td>\n",
       "      <td>72.19</td>\n",
       "      <td>0.77</td>\n",
       "      <td>+1.08%</td>\n",
       "      <td>16754999</td>\n",
       "      <td>13462000</td>\n",
       "      <td>91276000000</td>\n",
       "      <td>46.57</td>\n",
       "    </tr>\n",
       "    <tr>\n",
       "      <th>...</th>\n",
       "      <td>...</td>\n",
       "      <td>...</td>\n",
       "      <td>...</td>\n",
       "      <td>...</td>\n",
       "      <td>...</td>\n",
       "      <td>...</td>\n",
       "      <td>...</td>\n",
       "      <td>...</td>\n",
       "      <td>...</td>\n",
       "    </tr>\n",
       "    <tr>\n",
       "      <th>80</th>\n",
       "      <td>BP</td>\n",
       "      <td>BP p.l.c.</td>\n",
       "      <td>31.13</td>\n",
       "      <td>0.54</td>\n",
       "      <td>+1.77%</td>\n",
       "      <td>11971000</td>\n",
       "      <td>11740000</td>\n",
       "      <td>98608000000</td>\n",
       "      <td>NaN</td>\n",
       "    </tr>\n",
       "    <tr>\n",
       "      <th>85</th>\n",
       "      <td>AZN</td>\n",
       "      <td>AstraZeneca PLC</td>\n",
       "      <td>60.69</td>\n",
       "      <td>-1.10</td>\n",
       "      <td>-1.78%</td>\n",
       "      <td>11242000</td>\n",
       "      <td>6517000</td>\n",
       "      <td>190048000000</td>\n",
       "      <td>NaN</td>\n",
       "    </tr>\n",
       "    <tr>\n",
       "      <th>91</th>\n",
       "      <td>ELAN</td>\n",
       "      <td>Elanco Animal Health Incorporated</td>\n",
       "      <td>15.37</td>\n",
       "      <td>-0.01</td>\n",
       "      <td>-0.07%</td>\n",
       "      <td>10797000</td>\n",
       "      <td>5320000</td>\n",
       "      <td>7287000000</td>\n",
       "      <td>NaN</td>\n",
       "    </tr>\n",
       "    <tr>\n",
       "      <th>92</th>\n",
       "      <td>GSAT</td>\n",
       "      <td>Globalstar Inc.</td>\n",
       "      <td>2.04</td>\n",
       "      <td>0.04</td>\n",
       "      <td>+2.00%</td>\n",
       "      <td>10745000</td>\n",
       "      <td>5429000</td>\n",
       "      <td>3674000000</td>\n",
       "      <td>NaN</td>\n",
       "    </tr>\n",
       "    <tr>\n",
       "      <th>97</th>\n",
       "      <td>AFRM</td>\n",
       "      <td>Affirm Holdings Inc.</td>\n",
       "      <td>22.45</td>\n",
       "      <td>-0.71</td>\n",
       "      <td>-3.07%</td>\n",
       "      <td>10258000</td>\n",
       "      <td>14791000</td>\n",
       "      <td>6430000000</td>\n",
       "      <td>NaN</td>\n",
       "    </tr>\n",
       "  </tbody>\n",
       "</table>\n",
       "<p>100 rows × 9 columns</p>\n",
       "</div>"
      ],
      "text/plain": [
       "   Stock ticker                         Stock name  Last price of stock  \\\n",
       "15         SHOP                       Shopify Inc.                30.11   \n",
       "37          PCG                   PG&E Corporation                12.55   \n",
       "4          AMZN                    Amazon.com Inc.               127.51   \n",
       "5          TSLA                         Tesla Inc.               270.21   \n",
       "47          PDD                     Pinduoduo Inc.                72.19   \n",
       "..          ...                                ...                  ...   \n",
       "80           BP                          BP p.l.c.                31.13   \n",
       "85          AZN                    AstraZeneca PLC                60.69   \n",
       "91         ELAN  Elanco Animal Health Incorporated                15.37   \n",
       "92         GSAT                    Globalstar Inc.                 2.04   \n",
       "97         AFRM               Affirm Holdings Inc.                22.45   \n",
       "\n",
       "    Stock change Stock percentage change    Volume  \\\n",
       "15         -1.16                  -3.71%  31342000   \n",
       "37          0.02                  +0.16%  21180000   \n",
       "4          -0.31                  -0.24%  57430000   \n",
       "5          -6.95                  -2.51%  49863000   \n",
       "47          0.77                  +1.08%  16754999   \n",
       "..           ...                     ...       ...   \n",
       "80          0.54                  +1.77%  11971000   \n",
       "85         -1.10                  -1.78%  11242000   \n",
       "91         -0.01                  -0.07%  10797000   \n",
       "92          0.04                  +2.00%  10745000   \n",
       "97         -0.71                  -3.07%  10258000   \n",
       "\n",
       "    Average volume over 3 months     Market cap  PE ratio  \n",
       "15                      33223000    38191000000    231.62  \n",
       "37                      13481000    30941000000    125.50  \n",
       "4                       64506000  1299000000000    113.85  \n",
       "5                       83703000   846695000000     96.85  \n",
       "47                      13462000    91276000000     46.57  \n",
       "..                           ...            ...       ...  \n",
       "80                      11740000    98608000000       NaN  \n",
       "85                       6517000   190048000000       NaN  \n",
       "91                       5320000     7287000000       NaN  \n",
       "92                       5429000     3674000000       NaN  \n",
       "97                      14791000     6430000000       NaN  \n",
       "\n",
       "[100 rows x 9 columns]"
      ]
     },
     "execution_count": 179,
     "metadata": {},
     "output_type": "execute_result"
    }
   ],
   "source": [
    "order_by_pe_ratio_df = most_active_df.sort_values('PE ratio', ascending=False)\n",
    "order_by_pe_ratio_df"
   ]
  },
  {
   "cell_type": "code",
   "execution_count": 180,
   "metadata": {},
   "outputs": [
    {
     "data": {
      "text/html": [
       "<div>\n",
       "<style scoped>\n",
       "    .dataframe tbody tr th:only-of-type {\n",
       "        vertical-align: middle;\n",
       "    }\n",
       "\n",
       "    .dataframe tbody tr th {\n",
       "        vertical-align: top;\n",
       "    }\n",
       "\n",
       "    .dataframe thead th {\n",
       "        text-align: right;\n",
       "    }\n",
       "</style>\n",
       "<table border=\"1\" class=\"dataframe\">\n",
       "  <thead>\n",
       "    <tr style=\"text-align: right;\">\n",
       "      <th></th>\n",
       "      <th>Stock ticker</th>\n",
       "      <th>Stock name</th>\n",
       "      <th>Last price of stock</th>\n",
       "      <th>Stock change</th>\n",
       "      <th>Stock percentage change</th>\n",
       "      <th>Volume</th>\n",
       "      <th>Average volume over 3 months</th>\n",
       "      <th>Market cap</th>\n",
       "      <th>PE ratio</th>\n",
       "    </tr>\n",
       "  </thead>\n",
       "  <tbody>\n",
       "    <tr>\n",
       "      <th>0</th>\n",
       "      <td>AMD</td>\n",
       "      <td>Advanced Micro Devices Inc.</td>\n",
       "      <td>80.24</td>\n",
       "      <td>-2.09</td>\n",
       "      <td>-2.54%</td>\n",
       "      <td>84924000</td>\n",
       "      <td>84344000</td>\n",
       "      <td>129532999999</td>\n",
       "      <td>35.19</td>\n",
       "    </tr>\n",
       "    <tr>\n",
       "      <th>1</th>\n",
       "      <td>AAPL</td>\n",
       "      <td>Apple Inc.</td>\n",
       "      <td>155.81</td>\n",
       "      <td>-2.15</td>\n",
       "      <td>-1.36%</td>\n",
       "      <td>76310000</td>\n",
       "      <td>73365000</td>\n",
       "      <td>2504000000000</td>\n",
       "      <td>25.75</td>\n",
       "    </tr>\n",
       "    <tr>\n",
       "      <th>2</th>\n",
       "      <td>NVDA</td>\n",
       "      <td>NVIDIA Corporation</td>\n",
       "      <td>136.47</td>\n",
       "      <td>-2.90</td>\n",
       "      <td>-2.08%</td>\n",
       "      <td>74203000</td>\n",
       "      <td>52884000</td>\n",
       "      <td>340083000000</td>\n",
       "      <td>36.60</td>\n",
       "    </tr>\n",
       "    <tr>\n",
       "      <th>3</th>\n",
       "      <td>F</td>\n",
       "      <td>Ford Motor Company</td>\n",
       "      <td>15.16</td>\n",
       "      <td>-0.03</td>\n",
       "      <td>-0.20%</td>\n",
       "      <td>64117999</td>\n",
       "      <td>60936000</td>\n",
       "      <td>60947000000</td>\n",
       "      <td>5.26</td>\n",
       "    </tr>\n",
       "    <tr>\n",
       "      <th>4</th>\n",
       "      <td>AMZN</td>\n",
       "      <td>Amazon.com Inc.</td>\n",
       "      <td>127.51</td>\n",
       "      <td>-0.31</td>\n",
       "      <td>-0.24%</td>\n",
       "      <td>57430000</td>\n",
       "      <td>64506000</td>\n",
       "      <td>1299000000000</td>\n",
       "      <td>113.85</td>\n",
       "    </tr>\n",
       "    <tr>\n",
       "      <th>...</th>\n",
       "      <td>...</td>\n",
       "      <td>...</td>\n",
       "      <td>...</td>\n",
       "      <td>...</td>\n",
       "      <td>...</td>\n",
       "      <td>...</td>\n",
       "      <td>...</td>\n",
       "      <td>...</td>\n",
       "      <td>...</td>\n",
       "    </tr>\n",
       "    <tr>\n",
       "      <th>96</th>\n",
       "      <td>SBUX</td>\n",
       "      <td>Starbucks Corporation</td>\n",
       "      <td>82.94</td>\n",
       "      <td>-2.46</td>\n",
       "      <td>-2.88%</td>\n",
       "      <td>10337000</td>\n",
       "      <td>6652000</td>\n",
       "      <td>97988000000</td>\n",
       "      <td>23.36</td>\n",
       "    </tr>\n",
       "    <tr>\n",
       "      <th>97</th>\n",
       "      <td>AFRM</td>\n",
       "      <td>Affirm Holdings Inc.</td>\n",
       "      <td>22.45</td>\n",
       "      <td>-0.71</td>\n",
       "      <td>-3.07%</td>\n",
       "      <td>10258000</td>\n",
       "      <td>14791000</td>\n",
       "      <td>6430000000</td>\n",
       "      <td>NaN</td>\n",
       "    </tr>\n",
       "    <tr>\n",
       "      <th>98</th>\n",
       "      <td>PARA</td>\n",
       "      <td>Paramount Global</td>\n",
       "      <td>23.12</td>\n",
       "      <td>-0.34</td>\n",
       "      <td>-1.45%</td>\n",
       "      <td>10100000</td>\n",
       "      <td>8873000</td>\n",
       "      <td>15123000000</td>\n",
       "      <td>4.75</td>\n",
       "    </tr>\n",
       "    <tr>\n",
       "      <th>99</th>\n",
       "      <td>DVN</td>\n",
       "      <td>Devon Energy Corporation</td>\n",
       "      <td>70.34</td>\n",
       "      <td>2.18</td>\n",
       "      <td>+3.20%</td>\n",
       "      <td>9940000</td>\n",
       "      <td>12577000</td>\n",
       "      <td>46059000000</td>\n",
       "      <td>8.92</td>\n",
       "    </tr>\n",
       "    <tr>\n",
       "      <th>95</th>\n",
       "      <td>NEM</td>\n",
       "      <td>Newmont Corporation</td>\n",
       "      <td>41.67</td>\n",
       "      <td>0.76</td>\n",
       "      <td>+1.86%</td>\n",
       "      <td>9694000</td>\n",
       "      <td>8822000</td>\n",
       "      <td>33073000000</td>\n",
       "      <td>44.33</td>\n",
       "    </tr>\n",
       "  </tbody>\n",
       "</table>\n",
       "<p>100 rows × 9 columns</p>\n",
       "</div>"
      ],
      "text/plain": [
       "   Stock ticker                   Stock name  Last price of stock  \\\n",
       "0           AMD  Advanced Micro Devices Inc.                80.24   \n",
       "1          AAPL                   Apple Inc.               155.81   \n",
       "2          NVDA           NVIDIA Corporation               136.47   \n",
       "3             F           Ford Motor Company                15.16   \n",
       "4          AMZN              Amazon.com Inc.               127.51   \n",
       "..          ...                          ...                  ...   \n",
       "96         SBUX        Starbucks Corporation                82.94   \n",
       "97         AFRM         Affirm Holdings Inc.                22.45   \n",
       "98         PARA             Paramount Global                23.12   \n",
       "99          DVN     Devon Energy Corporation                70.34   \n",
       "95          NEM          Newmont Corporation                41.67   \n",
       "\n",
       "    Stock change Stock percentage change    Volume  \\\n",
       "0          -2.09                  -2.54%  84924000   \n",
       "1          -2.15                  -1.36%  76310000   \n",
       "2          -2.90                  -2.08%  74203000   \n",
       "3          -0.03                  -0.20%  64117999   \n",
       "4          -0.31                  -0.24%  57430000   \n",
       "..           ...                     ...       ...   \n",
       "96         -2.46                  -2.88%  10337000   \n",
       "97         -0.71                  -3.07%  10258000   \n",
       "98         -0.34                  -1.45%  10100000   \n",
       "99          2.18                  +3.20%   9940000   \n",
       "95          0.76                  +1.86%   9694000   \n",
       "\n",
       "    Average volume over 3 months     Market cap  PE ratio  \n",
       "0                       84344000   129532999999     35.19  \n",
       "1                       73365000  2504000000000     25.75  \n",
       "2                       52884000   340083000000     36.60  \n",
       "3                       60936000    60947000000      5.26  \n",
       "4                       64506000  1299000000000    113.85  \n",
       "..                           ...            ...       ...  \n",
       "96                       6652000    97988000000     23.36  \n",
       "97                      14791000     6430000000       NaN  \n",
       "98                       8873000    15123000000      4.75  \n",
       "99                      12577000    46059000000      8.92  \n",
       "95                       8822000    33073000000     44.33  \n",
       "\n",
       "[100 rows x 9 columns]"
      ]
     },
     "execution_count": 180,
     "metadata": {},
     "output_type": "execute_result"
    }
   ],
   "source": [
    "order_by_vol_df = most_active_df.sort_values('Volume', ascending=False)\n",
    "order_by_vol_df"
   ]
  },
  {
   "cell_type": "code",
   "execution_count": 181,
   "metadata": {},
   "outputs": [
    {
     "data": {
      "text/html": [
       "<div>\n",
       "<style scoped>\n",
       "    .dataframe tbody tr th:only-of-type {\n",
       "        vertical-align: middle;\n",
       "    }\n",
       "\n",
       "    .dataframe tbody tr th {\n",
       "        vertical-align: top;\n",
       "    }\n",
       "\n",
       "    .dataframe thead th {\n",
       "        text-align: right;\n",
       "    }\n",
       "</style>\n",
       "<table border=\"1\" class=\"dataframe\">\n",
       "  <thead>\n",
       "    <tr style=\"text-align: right;\">\n",
       "      <th></th>\n",
       "      <th>Stock ticker</th>\n",
       "      <th>Stock name</th>\n",
       "      <th>Last price of stock</th>\n",
       "      <th>Stock change</th>\n",
       "      <th>Stock percentage change</th>\n",
       "      <th>Volume</th>\n",
       "      <th>Average volume over 3 months</th>\n",
       "      <th>Market cap</th>\n",
       "      <th>PE ratio</th>\n",
       "    </tr>\n",
       "  </thead>\n",
       "  <tbody>\n",
       "    <tr>\n",
       "      <th>93</th>\n",
       "      <td>LYG</td>\n",
       "      <td>Lloyds Banking Group plc</td>\n",
       "      <td>1.96</td>\n",
       "      <td>0.01</td>\n",
       "      <td>+0.51%</td>\n",
       "      <td>10483000</td>\n",
       "      <td>11066000</td>\n",
       "      <td>33772000000</td>\n",
       "      <td>7.00</td>\n",
       "    </tr>\n",
       "    <tr>\n",
       "      <th>92</th>\n",
       "      <td>GSAT</td>\n",
       "      <td>Globalstar Inc.</td>\n",
       "      <td>2.04</td>\n",
       "      <td>0.04</td>\n",
       "      <td>+2.00%</td>\n",
       "      <td>10745000</td>\n",
       "      <td>5429000</td>\n",
       "      <td>3674000000</td>\n",
       "      <td>NaN</td>\n",
       "    </tr>\n",
       "    <tr>\n",
       "      <th>17</th>\n",
       "      <td>AUR</td>\n",
       "      <td>Aurora Innovation Inc.</td>\n",
       "      <td>2.43</td>\n",
       "      <td>0.32</td>\n",
       "      <td>+15.17%</td>\n",
       "      <td>27693000</td>\n",
       "      <td>3867000</td>\n",
       "      <td>2804000000</td>\n",
       "      <td>NaN</td>\n",
       "    </tr>\n",
       "    <tr>\n",
       "      <th>21</th>\n",
       "      <td>DNA</td>\n",
       "      <td>Ginkgo Bioworks Holdings Inc.</td>\n",
       "      <td>2.51</td>\n",
       "      <td>-0.23</td>\n",
       "      <td>-8.39%</td>\n",
       "      <td>26437000</td>\n",
       "      <td>26112000</td>\n",
       "      <td>4474000000</td>\n",
       "      <td>NaN</td>\n",
       "    </tr>\n",
       "    <tr>\n",
       "      <th>31</th>\n",
       "      <td>ABEV</td>\n",
       "      <td>Ambev S.A.</td>\n",
       "      <td>2.93</td>\n",
       "      <td>0.05</td>\n",
       "      <td>+1.74%</td>\n",
       "      <td>21147000</td>\n",
       "      <td>33107999</td>\n",
       "      <td>47717000000</td>\n",
       "      <td>17.24</td>\n",
       "    </tr>\n",
       "    <tr>\n",
       "      <th>...</th>\n",
       "      <td>...</td>\n",
       "      <td>...</td>\n",
       "      <td>...</td>\n",
       "      <td>...</td>\n",
       "      <td>...</td>\n",
       "      <td>...</td>\n",
       "      <td>...</td>\n",
       "      <td>...</td>\n",
       "      <td>...</td>\n",
       "    </tr>\n",
       "    <tr>\n",
       "      <th>2</th>\n",
       "      <td>NVDA</td>\n",
       "      <td>NVIDIA Corporation</td>\n",
       "      <td>136.47</td>\n",
       "      <td>-2.90</td>\n",
       "      <td>-2.08%</td>\n",
       "      <td>74203000</td>\n",
       "      <td>52884000</td>\n",
       "      <td>340083000000</td>\n",
       "      <td>36.60</td>\n",
       "    </tr>\n",
       "    <tr>\n",
       "      <th>1</th>\n",
       "      <td>AAPL</td>\n",
       "      <td>Apple Inc.</td>\n",
       "      <td>155.81</td>\n",
       "      <td>-2.15</td>\n",
       "      <td>-1.36%</td>\n",
       "      <td>76310000</td>\n",
       "      <td>73365000</td>\n",
       "      <td>2504000000000</td>\n",
       "      <td>25.75</td>\n",
       "    </tr>\n",
       "    <tr>\n",
       "      <th>35</th>\n",
       "      <td>META</td>\n",
       "      <td>Meta Platforms Inc.</td>\n",
       "      <td>160.32</td>\n",
       "      <td>-5.04</td>\n",
       "      <td>-3.05%</td>\n",
       "      <td>22596000</td>\n",
       "      <td>28396000</td>\n",
       "      <td>430868000000</td>\n",
       "      <td>12.63</td>\n",
       "    </tr>\n",
       "    <tr>\n",
       "      <th>29</th>\n",
       "      <td>MSFT</td>\n",
       "      <td>Microsoft Corporation</td>\n",
       "      <td>256.06</td>\n",
       "      <td>-4.34</td>\n",
       "      <td>-1.67%</td>\n",
       "      <td>22485000</td>\n",
       "      <td>25113000</td>\n",
       "      <td>1910000000000</td>\n",
       "      <td>26.53</td>\n",
       "    </tr>\n",
       "    <tr>\n",
       "      <th>5</th>\n",
       "      <td>TSLA</td>\n",
       "      <td>Tesla Inc.</td>\n",
       "      <td>270.21</td>\n",
       "      <td>-6.95</td>\n",
       "      <td>-2.51%</td>\n",
       "      <td>49863000</td>\n",
       "      <td>83703000</td>\n",
       "      <td>846695000000</td>\n",
       "      <td>96.85</td>\n",
       "    </tr>\n",
       "  </tbody>\n",
       "</table>\n",
       "<p>100 rows × 9 columns</p>\n",
       "</div>"
      ],
      "text/plain": [
       "   Stock ticker                     Stock name  Last price of stock  \\\n",
       "93          LYG       Lloyds Banking Group plc                 1.96   \n",
       "92         GSAT                Globalstar Inc.                 2.04   \n",
       "17          AUR         Aurora Innovation Inc.                 2.43   \n",
       "21          DNA  Ginkgo Bioworks Holdings Inc.                 2.51   \n",
       "31         ABEV                     Ambev S.A.                 2.93   \n",
       "..          ...                            ...                  ...   \n",
       "2          NVDA             NVIDIA Corporation               136.47   \n",
       "1          AAPL                     Apple Inc.               155.81   \n",
       "35         META            Meta Platforms Inc.               160.32   \n",
       "29         MSFT          Microsoft Corporation               256.06   \n",
       "5          TSLA                     Tesla Inc.               270.21   \n",
       "\n",
       "    Stock change Stock percentage change    Volume  \\\n",
       "93          0.01                  +0.51%  10483000   \n",
       "92          0.04                  +2.00%  10745000   \n",
       "17          0.32                 +15.17%  27693000   \n",
       "21         -0.23                  -8.39%  26437000   \n",
       "31          0.05                  +1.74%  21147000   \n",
       "..           ...                     ...       ...   \n",
       "2          -2.90                  -2.08%  74203000   \n",
       "1          -2.15                  -1.36%  76310000   \n",
       "35         -5.04                  -3.05%  22596000   \n",
       "29         -4.34                  -1.67%  22485000   \n",
       "5          -6.95                  -2.51%  49863000   \n",
       "\n",
       "    Average volume over 3 months     Market cap  PE ratio  \n",
       "93                      11066000    33772000000      7.00  \n",
       "92                       5429000     3674000000       NaN  \n",
       "17                       3867000     2804000000       NaN  \n",
       "21                      26112000     4474000000       NaN  \n",
       "31                      33107999    47717000000     17.24  \n",
       "..                           ...            ...       ...  \n",
       "2                       52884000   340083000000     36.60  \n",
       "1                       73365000  2504000000000     25.75  \n",
       "35                      28396000   430868000000     12.63  \n",
       "29                      25113000  1910000000000     26.53  \n",
       "5                       83703000   846695000000     96.85  \n",
       "\n",
       "[100 rows x 9 columns]"
      ]
     },
     "execution_count": 181,
     "metadata": {},
     "output_type": "execute_result"
    }
   ],
   "source": [
    "order_by_price_df = most_active_df.sort_values('Last price of stock')\n",
    "order_by_price_df"
   ]
  },
  {
   "cell_type": "markdown",
   "metadata": {},
   "source": [
    "### 7. A bit of simple data visualisation"
   ]
  },
  {
   "cell_type": "markdown",
   "metadata": {},
   "source": [
    "In order to visualise the data frames from above, it can be helpful to look at a plot like a bar chart. These are all very simple bar charts but are intended to shed light on some of the findings from our articles."
   ]
  },
  {
   "cell_type": "code",
   "execution_count": 182,
   "metadata": {},
   "outputs": [],
   "source": [
    "import matplotlib.pyplot as plt"
   ]
  },
  {
   "cell_type": "markdown",
   "metadata": {},
   "source": [
    "A plot that shows stocks from the 100 most active stocks from highest to lowest PE ratio."
   ]
  },
  {
   "cell_type": "code",
   "execution_count": 183,
   "metadata": {
    "scrolled": false
   },
   "outputs": [
    {
     "data": {
      "image/png": "[encoded data removed]",
      "text/plain": [
       "<Figure size 1440x720 with 1 Axes>"
      ]
     },
     "metadata": {
      "needs_background": "light"
     },
     "output_type": "display_data"
    }
   ],
   "source": [
    "order_by_pe_ratio_df.plot(x ='Stock ticker', y='PE ratio', kind = 'bar',figsize=(20,10))\n",
    "plt.show()"
   ]
  },
  {
   "cell_type": "markdown",
   "metadata": {},
   "source": [
    "A plot that shows stocks from the 100 most active stocks from highest to lowest volume."
   ]
  },
  {
   "cell_type": "code",
   "execution_count": 184,
   "metadata": {},
   "outputs": [
    {
     "data": {
      "image/png": "[encoded data removed]",
      "text/plain": [
       "<Figure size 1440x720 with 1 Axes>"
      ]
     },
     "metadata": {
      "needs_background": "light"
     },
     "output_type": "display_data"
    }
   ],
   "source": [
    "order_by_vol_df.plot(x ='Stock ticker', y='Volume', kind = 'bar',figsize=(20,10),color='orange')\n",
    "plt.show()"
   ]
  },
  {
   "cell_type": "markdown",
   "metadata": {},
   "source": [
    "A plot that shows stocks from the 100 most active stocks from cheapest to most expensive."
   ]
  },
  {
   "cell_type": "code",
   "execution_count": 185,
   "metadata": {},
   "outputs": [
    {
     "data": {
      "image/png": "[encoded data removed]",
      "text/plain": [
       "<Figure size 1440x720 with 1 Axes>"
      ]
     },
     "metadata": {
      "needs_background": "light"
     },
     "output_type": "display_data"
    }
   ],
   "source": [
    "order_by_price_df.plot(x ='Stock ticker', y='Last price of stock', kind = 'bar',figsize=(20,10),color='pink')\n",
    "plt.show()"
   ]
  },
  {
   "cell_type": "markdown",
   "metadata": {},
   "source": [
    "### 8. Summary\n",
    "\n",
    "In summary, we've downloaded two articles, parsed them for information, created functions to create dictionaries of the parsed information, saved those dictionaries as CSV files, converted those CSV files to pandas data frames, and finally, visualised a few of those data frames. \n",
    "\n",
    "This project is meant to be informative and general in nature, it is not applicable to anyone's personal situation. "
   ]
  },
  {
   "cell_type": "markdown",
   "metadata": {},
   "source": [
    "### 9. Future work ideas\n",
    "\n",
    "In the future, I would love to gather more information on individual stocks such as historical data so that we can look at comparisons of stocks historically. I would also like to delve deeper into data displays and derive useful inferences that can be used for educational purposes. I think this project can be used as a springboard for my goal of shrinking the wealth gap. "
   ]
  },
  {
   "cell_type": "markdown",
   "metadata": {},
   "source": [
    "### 10. References\n",
    "\n",
    "* “Cryptocurrency List & Prices, Top Cryptocurrencies.” Yahoo! Finance, Yahoo!, 20 Aug. 2022, https://finance.yahoo.com/cryptocurrencies/. \n",
    "* “Girls That Invest Podcast & Masterclass.” Girls That Invest, https://girlsthatinvest.com/. \n",
    "* “Most Active Stocks Today.” Yahoo! Finance, Yahoo!, 20 Aug. 2022, https://finance.yahoo.com/most-active?offset=0&amp;count=100. "
   ]
  },
  {
   "cell_type": "code",
   "execution_count": 186,
   "metadata": {},
   "outputs": [],
   "source": [
    "!pip install jovian --upgrade --quiet"
   ]
  },
  {
   "cell_type": "code",
   "execution_count": 187,
   "metadata": {},
   "outputs": [],
   "source": [
    "import jovian"
   ]
  },
  {
   "cell_type": "code",
   "execution_count": null,
   "metadata": {},
   "outputs": [
    {
     "data": {
      "application/javascript": [
       "window.require && require([\"base/js/namespace\"],function(Jupyter){Jupyter.notebook.save_checkpoint()})"
      ],
      "text/plain": [
       "<IPython.core.display.Javascript object>"
      ]
     },
     "metadata": {},
     "output_type": "display_data"
    }
   ],
   "source": [
    "jovian.commit(files=['most-active-stocks-next-page.csv', 'most-active-stocks.csv'])"
   ]
  }
 ],
 "metadata": {
  "kernelspec": {
   "display_name": "Python 3 (ipykernel)",
   "language": "python",
   "name": "python3"
  },
  "language_info": {
   "codemirror_mode": {
    "name": "ipython",
    "version": 3
   },
   "file_extension": ".py",
   "mimetype": "text/x-python",
   "name": "python",
   "nbconvert_exporter": "python",
   "pygments_lexer": "ipython3",
   "version": "3.9.6"
  }
 },
 "nbformat": 4,
 "nbformat_minor": 2
}
